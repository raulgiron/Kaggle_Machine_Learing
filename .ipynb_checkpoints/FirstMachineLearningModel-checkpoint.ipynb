{
 "cells": [
  {
   "cell_type": "markdown",
   "id": "7664352b-f40b-434f-b8f8-cf4e0da961ca",
   "metadata": {},
   "source": [
    "# INTRO TO MACHINE LEARNING"
   ]
  },
  {
   "cell_type": "code",
   "execution_count": 47,
   "id": "50be5cdb-4e81-452d-b01f-2d0e8b1f7c3a",
   "metadata": {},
   "outputs": [],
   "source": [
    "import pandas as pd\n",
    "import sys"
   ]
  },
  {
   "cell_type": "code",
   "execution_count": 48,
   "id": "b62848e6-fa8a-4dd9-903a-2af4aa0b5514",
   "metadata": {},
   "outputs": [],
   "source": [
    "def format_with_commas(x):\n",
    "    return '{:,.2f}'.format(x)\n",
    "\n",
    "pd.options.display.float_format = format_with_commas"
   ]
  },
  {
   "cell_type": "code",
   "execution_count": 49,
   "id": "154a50d2-65b0-4208-9613-8c70920ce4c2",
   "metadata": {},
   "outputs": [],
   "source": [
    "melbourne_file_path = '/Volumes/Memory/kaggle/machine_learning/melb_data.csv'"
   ]
  },
  {
   "cell_type": "code",
   "execution_count": 50,
   "id": "c2b4dab9-8c2d-46fc-a90b-c72141cfc6ff",
   "metadata": {},
   "outputs": [],
   "source": [
    "melbourne_data = pd.read_csv(melbourne_file_path)"
   ]
  },
  {
   "cell_type": "code",
   "execution_count": 51,
   "id": "e377679a-9bbc-44b0-aeb1-8d0b19724570",
   "metadata": {},
   "outputs": [
    {
     "data": {
      "text/html": [
       "<div>\n",
       "<style scoped>\n",
       "    .dataframe tbody tr th:only-of-type {\n",
       "        vertical-align: middle;\n",
       "    }\n",
       "\n",
       "    .dataframe tbody tr th {\n",
       "        vertical-align: top;\n",
       "    }\n",
       "\n",
       "    .dataframe thead th {\n",
       "        text-align: right;\n",
       "    }\n",
       "</style>\n",
       "<table border=\"1\" class=\"dataframe\">\n",
       "  <thead>\n",
       "    <tr style=\"text-align: right;\">\n",
       "      <th></th>\n",
       "      <th>Rooms</th>\n",
       "      <th>Price</th>\n",
       "      <th>Distance</th>\n",
       "      <th>Postcode</th>\n",
       "      <th>Bedroom2</th>\n",
       "      <th>Bathroom</th>\n",
       "      <th>Car</th>\n",
       "      <th>Landsize</th>\n",
       "      <th>BuildingArea</th>\n",
       "      <th>YearBuilt</th>\n",
       "      <th>Lattitude</th>\n",
       "      <th>Longtitude</th>\n",
       "      <th>Propertycount</th>\n",
       "    </tr>\n",
       "  </thead>\n",
       "  <tbody>\n",
       "    <tr>\n",
       "      <th>count</th>\n",
       "      <td>13,580.00</td>\n",
       "      <td>13,580.00</td>\n",
       "      <td>13,580.00</td>\n",
       "      <td>13,580.00</td>\n",
       "      <td>13,580.00</td>\n",
       "      <td>13,580.00</td>\n",
       "      <td>13,518.00</td>\n",
       "      <td>13,580.00</td>\n",
       "      <td>7,130.00</td>\n",
       "      <td>8,205.00</td>\n",
       "      <td>13,580.00</td>\n",
       "      <td>13,580.00</td>\n",
       "      <td>13,580.00</td>\n",
       "    </tr>\n",
       "    <tr>\n",
       "      <th>mean</th>\n",
       "      <td>2.94</td>\n",
       "      <td>1,075,684.08</td>\n",
       "      <td>10.14</td>\n",
       "      <td>3,105.30</td>\n",
       "      <td>2.91</td>\n",
       "      <td>1.53</td>\n",
       "      <td>1.61</td>\n",
       "      <td>558.42</td>\n",
       "      <td>151.97</td>\n",
       "      <td>1,964.68</td>\n",
       "      <td>-37.81</td>\n",
       "      <td>145.00</td>\n",
       "      <td>7,454.42</td>\n",
       "    </tr>\n",
       "    <tr>\n",
       "      <th>std</th>\n",
       "      <td>0.96</td>\n",
       "      <td>639,310.72</td>\n",
       "      <td>5.87</td>\n",
       "      <td>90.68</td>\n",
       "      <td>0.97</td>\n",
       "      <td>0.69</td>\n",
       "      <td>0.96</td>\n",
       "      <td>3,990.67</td>\n",
       "      <td>541.01</td>\n",
       "      <td>37.27</td>\n",
       "      <td>0.08</td>\n",
       "      <td>0.10</td>\n",
       "      <td>4,378.58</td>\n",
       "    </tr>\n",
       "    <tr>\n",
       "      <th>min</th>\n",
       "      <td>1.00</td>\n",
       "      <td>85,000.00</td>\n",
       "      <td>0.00</td>\n",
       "      <td>3,000.00</td>\n",
       "      <td>0.00</td>\n",
       "      <td>0.00</td>\n",
       "      <td>0.00</td>\n",
       "      <td>0.00</td>\n",
       "      <td>0.00</td>\n",
       "      <td>1,196.00</td>\n",
       "      <td>-38.18</td>\n",
       "      <td>144.43</td>\n",
       "      <td>249.00</td>\n",
       "    </tr>\n",
       "    <tr>\n",
       "      <th>25%</th>\n",
       "      <td>2.00</td>\n",
       "      <td>650,000.00</td>\n",
       "      <td>6.10</td>\n",
       "      <td>3,044.00</td>\n",
       "      <td>2.00</td>\n",
       "      <td>1.00</td>\n",
       "      <td>1.00</td>\n",
       "      <td>177.00</td>\n",
       "      <td>93.00</td>\n",
       "      <td>1,940.00</td>\n",
       "      <td>-37.86</td>\n",
       "      <td>144.93</td>\n",
       "      <td>4,380.00</td>\n",
       "    </tr>\n",
       "    <tr>\n",
       "      <th>50%</th>\n",
       "      <td>3.00</td>\n",
       "      <td>903,000.00</td>\n",
       "      <td>9.20</td>\n",
       "      <td>3,084.00</td>\n",
       "      <td>3.00</td>\n",
       "      <td>1.00</td>\n",
       "      <td>2.00</td>\n",
       "      <td>440.00</td>\n",
       "      <td>126.00</td>\n",
       "      <td>1,970.00</td>\n",
       "      <td>-37.80</td>\n",
       "      <td>145.00</td>\n",
       "      <td>6,555.00</td>\n",
       "    </tr>\n",
       "    <tr>\n",
       "      <th>75%</th>\n",
       "      <td>3.00</td>\n",
       "      <td>1,330,000.00</td>\n",
       "      <td>13.00</td>\n",
       "      <td>3,148.00</td>\n",
       "      <td>3.00</td>\n",
       "      <td>2.00</td>\n",
       "      <td>2.00</td>\n",
       "      <td>651.00</td>\n",
       "      <td>174.00</td>\n",
       "      <td>1,999.00</td>\n",
       "      <td>-37.76</td>\n",
       "      <td>145.06</td>\n",
       "      <td>10,331.00</td>\n",
       "    </tr>\n",
       "    <tr>\n",
       "      <th>max</th>\n",
       "      <td>10.00</td>\n",
       "      <td>9,000,000.00</td>\n",
       "      <td>48.10</td>\n",
       "      <td>3,977.00</td>\n",
       "      <td>20.00</td>\n",
       "      <td>8.00</td>\n",
       "      <td>10.00</td>\n",
       "      <td>433,014.00</td>\n",
       "      <td>44,515.00</td>\n",
       "      <td>2,018.00</td>\n",
       "      <td>-37.41</td>\n",
       "      <td>145.53</td>\n",
       "      <td>21,650.00</td>\n",
       "    </tr>\n",
       "  </tbody>\n",
       "</table>\n",
       "</div>"
      ],
      "text/plain": [
       "          Rooms        Price  Distance  Postcode  Bedroom2  Bathroom  \\\n",
       "count 13,580.00    13,580.00 13,580.00 13,580.00 13,580.00 13,580.00   \n",
       "mean       2.94 1,075,684.08     10.14  3,105.30      2.91      1.53   \n",
       "std        0.96   639,310.72      5.87     90.68      0.97      0.69   \n",
       "min        1.00    85,000.00      0.00  3,000.00      0.00      0.00   \n",
       "25%        2.00   650,000.00      6.10  3,044.00      2.00      1.00   \n",
       "50%        3.00   903,000.00      9.20  3,084.00      3.00      1.00   \n",
       "75%        3.00 1,330,000.00     13.00  3,148.00      3.00      2.00   \n",
       "max       10.00 9,000,000.00     48.10  3,977.00     20.00      8.00   \n",
       "\n",
       "            Car   Landsize  BuildingArea  YearBuilt  Lattitude  Longtitude  \\\n",
       "count 13,518.00  13,580.00      7,130.00   8,205.00  13,580.00   13,580.00   \n",
       "mean       1.61     558.42        151.97   1,964.68     -37.81      145.00   \n",
       "std        0.96   3,990.67        541.01      37.27       0.08        0.10   \n",
       "min        0.00       0.00          0.00   1,196.00     -38.18      144.43   \n",
       "25%        1.00     177.00         93.00   1,940.00     -37.86      144.93   \n",
       "50%        2.00     440.00        126.00   1,970.00     -37.80      145.00   \n",
       "75%        2.00     651.00        174.00   1,999.00     -37.76      145.06   \n",
       "max       10.00 433,014.00     44,515.00   2,018.00     -37.41      145.53   \n",
       "\n",
       "       Propertycount  \n",
       "count      13,580.00  \n",
       "mean        7,454.42  \n",
       "std         4,378.58  \n",
       "min           249.00  \n",
       "25%         4,380.00  \n",
       "50%         6,555.00  \n",
       "75%        10,331.00  \n",
       "max        21,650.00  "
      ]
     },
     "execution_count": 51,
     "metadata": {},
     "output_type": "execute_result"
    }
   ],
   "source": [
    "melbourne_data.describe()"
   ]
  },
  {
   "cell_type": "markdown",
   "id": "32a07926-12bc-48f9-b5f8-328d0e3aeb98",
   "metadata": {},
   "source": [
    "### Print the list of columns in the dataset"
   ]
  },
  {
   "cell_type": "code",
   "execution_count": 52,
   "id": "0849d81b-1bc7-4d2a-b397-433e362d013e",
   "metadata": {},
   "outputs": [
    {
     "data": {
      "text/plain": [
       "Index(['Suburb', 'Address', 'Rooms', 'Type', 'Price', 'Method', 'SellerG',\n",
       "       'Date', 'Distance', 'Postcode', 'Bedroom2', 'Bathroom', 'Car',\n",
       "       'Landsize', 'BuildingArea', 'YearBuilt', 'CouncilArea', 'Lattitude',\n",
       "       'Longtitude', 'Regionname', 'Propertycount'],\n",
       "      dtype='object')"
      ]
     },
     "execution_count": 52,
     "metadata": {},
     "output_type": "execute_result"
    }
   ],
   "source": [
    "melbourne_data.columns"
   ]
  },
  {
   "cell_type": "code",
   "execution_count": 53,
   "id": "2a9d1c2f-2196-4e9b-98df-e4a5d053e12e",
   "metadata": {},
   "outputs": [],
   "source": [
    "melbourne_data = melbourne_data.dropna(axis=0)"
   ]
  },
  {
   "cell_type": "code",
   "execution_count": 54,
   "id": "e4e6c1ac-db2b-40e9-b7fc-dace65a3ce6b",
   "metadata": {},
   "outputs": [
    {
     "data": {
      "text/html": [
       "<div>\n",
       "<style scoped>\n",
       "    .dataframe tbody tr th:only-of-type {\n",
       "        vertical-align: middle;\n",
       "    }\n",
       "\n",
       "    .dataframe tbody tr th {\n",
       "        vertical-align: top;\n",
       "    }\n",
       "\n",
       "    .dataframe thead th {\n",
       "        text-align: right;\n",
       "    }\n",
       "</style>\n",
       "<table border=\"1\" class=\"dataframe\">\n",
       "  <thead>\n",
       "    <tr style=\"text-align: right;\">\n",
       "      <th></th>\n",
       "      <th>Rooms</th>\n",
       "      <th>Price</th>\n",
       "      <th>Distance</th>\n",
       "      <th>Postcode</th>\n",
       "      <th>Bedroom2</th>\n",
       "      <th>Bathroom</th>\n",
       "      <th>Car</th>\n",
       "      <th>Landsize</th>\n",
       "      <th>BuildingArea</th>\n",
       "      <th>YearBuilt</th>\n",
       "      <th>Lattitude</th>\n",
       "      <th>Longtitude</th>\n",
       "      <th>Propertycount</th>\n",
       "    </tr>\n",
       "  </thead>\n",
       "  <tbody>\n",
       "    <tr>\n",
       "      <th>count</th>\n",
       "      <td>6,196.00</td>\n",
       "      <td>6,196.00</td>\n",
       "      <td>6,196.00</td>\n",
       "      <td>6,196.00</td>\n",
       "      <td>6,196.00</td>\n",
       "      <td>6,196.00</td>\n",
       "      <td>6,196.00</td>\n",
       "      <td>6,196.00</td>\n",
       "      <td>6,196.00</td>\n",
       "      <td>6,196.00</td>\n",
       "      <td>6,196.00</td>\n",
       "      <td>6,196.00</td>\n",
       "      <td>6,196.00</td>\n",
       "    </tr>\n",
       "    <tr>\n",
       "      <th>mean</th>\n",
       "      <td>2.93</td>\n",
       "      <td>1,068,828.20</td>\n",
       "      <td>9.75</td>\n",
       "      <td>3,101.95</td>\n",
       "      <td>2.90</td>\n",
       "      <td>1.58</td>\n",
       "      <td>1.57</td>\n",
       "      <td>471.01</td>\n",
       "      <td>141.57</td>\n",
       "      <td>1,964.08</td>\n",
       "      <td>-37.81</td>\n",
       "      <td>144.99</td>\n",
       "      <td>7,435.49</td>\n",
       "    </tr>\n",
       "    <tr>\n",
       "      <th>std</th>\n",
       "      <td>0.97</td>\n",
       "      <td>675,156.43</td>\n",
       "      <td>5.61</td>\n",
       "      <td>86.42</td>\n",
       "      <td>0.97</td>\n",
       "      <td>0.71</td>\n",
       "      <td>0.93</td>\n",
       "      <td>897.45</td>\n",
       "      <td>90.83</td>\n",
       "      <td>38.11</td>\n",
       "      <td>0.08</td>\n",
       "      <td>0.10</td>\n",
       "      <td>4,337.70</td>\n",
       "    </tr>\n",
       "    <tr>\n",
       "      <th>min</th>\n",
       "      <td>1.00</td>\n",
       "      <td>131,000.00</td>\n",
       "      <td>0.00</td>\n",
       "      <td>3,000.00</td>\n",
       "      <td>0.00</td>\n",
       "      <td>1.00</td>\n",
       "      <td>0.00</td>\n",
       "      <td>0.00</td>\n",
       "      <td>0.00</td>\n",
       "      <td>1,196.00</td>\n",
       "      <td>-38.16</td>\n",
       "      <td>144.54</td>\n",
       "      <td>389.00</td>\n",
       "    </tr>\n",
       "    <tr>\n",
       "      <th>25%</th>\n",
       "      <td>2.00</td>\n",
       "      <td>620,000.00</td>\n",
       "      <td>5.90</td>\n",
       "      <td>3,044.00</td>\n",
       "      <td>2.00</td>\n",
       "      <td>1.00</td>\n",
       "      <td>1.00</td>\n",
       "      <td>152.00</td>\n",
       "      <td>91.00</td>\n",
       "      <td>1,940.00</td>\n",
       "      <td>-37.86</td>\n",
       "      <td>144.93</td>\n",
       "      <td>4,383.75</td>\n",
       "    </tr>\n",
       "    <tr>\n",
       "      <th>50%</th>\n",
       "      <td>3.00</td>\n",
       "      <td>880,000.00</td>\n",
       "      <td>9.00</td>\n",
       "      <td>3,081.00</td>\n",
       "      <td>3.00</td>\n",
       "      <td>1.00</td>\n",
       "      <td>1.00</td>\n",
       "      <td>373.00</td>\n",
       "      <td>124.00</td>\n",
       "      <td>1,970.00</td>\n",
       "      <td>-37.80</td>\n",
       "      <td>145.00</td>\n",
       "      <td>6,567.00</td>\n",
       "    </tr>\n",
       "    <tr>\n",
       "      <th>75%</th>\n",
       "      <td>4.00</td>\n",
       "      <td>1,325,000.00</td>\n",
       "      <td>12.40</td>\n",
       "      <td>3,147.00</td>\n",
       "      <td>3.00</td>\n",
       "      <td>2.00</td>\n",
       "      <td>2.00</td>\n",
       "      <td>628.00</td>\n",
       "      <td>170.00</td>\n",
       "      <td>2,000.00</td>\n",
       "      <td>-37.76</td>\n",
       "      <td>145.05</td>\n",
       "      <td>10,175.00</td>\n",
       "    </tr>\n",
       "    <tr>\n",
       "      <th>max</th>\n",
       "      <td>8.00</td>\n",
       "      <td>9,000,000.00</td>\n",
       "      <td>47.40</td>\n",
       "      <td>3,977.00</td>\n",
       "      <td>9.00</td>\n",
       "      <td>8.00</td>\n",
       "      <td>10.00</td>\n",
       "      <td>37,000.00</td>\n",
       "      <td>3,112.00</td>\n",
       "      <td>2,018.00</td>\n",
       "      <td>-37.46</td>\n",
       "      <td>145.53</td>\n",
       "      <td>21,650.00</td>\n",
       "    </tr>\n",
       "  </tbody>\n",
       "</table>\n",
       "</div>"
      ],
      "text/plain": [
       "         Rooms        Price  Distance  Postcode  Bedroom2  Bathroom      Car  \\\n",
       "count 6,196.00     6,196.00  6,196.00  6,196.00  6,196.00  6,196.00 6,196.00   \n",
       "mean      2.93 1,068,828.20      9.75  3,101.95      2.90      1.58     1.57   \n",
       "std       0.97   675,156.43      5.61     86.42      0.97      0.71     0.93   \n",
       "min       1.00   131,000.00      0.00  3,000.00      0.00      1.00     0.00   \n",
       "25%       2.00   620,000.00      5.90  3,044.00      2.00      1.00     1.00   \n",
       "50%       3.00   880,000.00      9.00  3,081.00      3.00      1.00     1.00   \n",
       "75%       4.00 1,325,000.00     12.40  3,147.00      3.00      2.00     2.00   \n",
       "max       8.00 9,000,000.00     47.40  3,977.00      9.00      8.00    10.00   \n",
       "\n",
       "       Landsize  BuildingArea  YearBuilt  Lattitude  Longtitude  Propertycount  \n",
       "count  6,196.00      6,196.00   6,196.00   6,196.00    6,196.00       6,196.00  \n",
       "mean     471.01        141.57   1,964.08     -37.81      144.99       7,435.49  \n",
       "std      897.45         90.83      38.11       0.08        0.10       4,337.70  \n",
       "min        0.00          0.00   1,196.00     -38.16      144.54         389.00  \n",
       "25%      152.00         91.00   1,940.00     -37.86      144.93       4,383.75  \n",
       "50%      373.00        124.00   1,970.00     -37.80      145.00       6,567.00  \n",
       "75%      628.00        170.00   2,000.00     -37.76      145.05      10,175.00  \n",
       "max   37,000.00      3,112.00   2,018.00     -37.46      145.53      21,650.00  "
      ]
     },
     "execution_count": 54,
     "metadata": {},
     "output_type": "execute_result"
    }
   ],
   "source": [
    "melbourne_data.describe()"
   ]
  },
  {
   "cell_type": "markdown",
   "id": "9e285ff3-0fca-4b74-b59e-e264616f4455",
   "metadata": {},
   "source": [
    "# Selecting The Prediction Target of the Model - By convention, the prediction target is called \" y \""
   ]
  },
  {
   "cell_type": "code",
   "execution_count": 55,
   "id": "2f3436ad-f60e-4517-8309-26de211e04ba",
   "metadata": {},
   "outputs": [],
   "source": [
    "y = melbourne_data.Price"
   ]
  },
  {
   "cell_type": "markdown",
   "id": "3c97ebdf-8101-4437-9e8b-291e7a4747d3",
   "metadata": {},
   "source": [
    "# Choosing the \"Features\" of the Model - By convention, this data is called \" X \""
   ]
  },
  {
   "cell_type": "code",
   "execution_count": 56,
   "id": "07d6dcbf-788e-4205-8cc3-e3092731e9a0",
   "metadata": {},
   "outputs": [],
   "source": [
    "melbourne_features = ['Rooms', 'Bathroom', 'Landsize', 'Lattitude', 'Longtitude']"
   ]
  },
  {
   "cell_type": "code",
   "execution_count": 57,
   "id": "879c7a54-cf78-4532-839f-1a05f9a9bc02",
   "metadata": {},
   "outputs": [],
   "source": [
    "X = melbourne_data[melbourne_features]"
   ]
  },
  {
   "cell_type": "code",
   "execution_count": 58,
   "id": "cf23c515-c5c9-47e7-a159-bc7bc906d0e3",
   "metadata": {},
   "outputs": [
    {
     "data": {
      "text/html": [
       "<div>\n",
       "<style scoped>\n",
       "    .dataframe tbody tr th:only-of-type {\n",
       "        vertical-align: middle;\n",
       "    }\n",
       "\n",
       "    .dataframe tbody tr th {\n",
       "        vertical-align: top;\n",
       "    }\n",
       "\n",
       "    .dataframe thead th {\n",
       "        text-align: right;\n",
       "    }\n",
       "</style>\n",
       "<table border=\"1\" class=\"dataframe\">\n",
       "  <thead>\n",
       "    <tr style=\"text-align: right;\">\n",
       "      <th></th>\n",
       "      <th>Rooms</th>\n",
       "      <th>Bathroom</th>\n",
       "      <th>Landsize</th>\n",
       "      <th>Lattitude</th>\n",
       "      <th>Longtitude</th>\n",
       "    </tr>\n",
       "  </thead>\n",
       "  <tbody>\n",
       "    <tr>\n",
       "      <th>count</th>\n",
       "      <td>6,196.00</td>\n",
       "      <td>6,196.00</td>\n",
       "      <td>6,196.00</td>\n",
       "      <td>6,196.00</td>\n",
       "      <td>6,196.00</td>\n",
       "    </tr>\n",
       "    <tr>\n",
       "      <th>mean</th>\n",
       "      <td>2.93</td>\n",
       "      <td>1.58</td>\n",
       "      <td>471.01</td>\n",
       "      <td>-37.81</td>\n",
       "      <td>144.99</td>\n",
       "    </tr>\n",
       "    <tr>\n",
       "      <th>std</th>\n",
       "      <td>0.97</td>\n",
       "      <td>0.71</td>\n",
       "      <td>897.45</td>\n",
       "      <td>0.08</td>\n",
       "      <td>0.10</td>\n",
       "    </tr>\n",
       "    <tr>\n",
       "      <th>min</th>\n",
       "      <td>1.00</td>\n",
       "      <td>1.00</td>\n",
       "      <td>0.00</td>\n",
       "      <td>-38.16</td>\n",
       "      <td>144.54</td>\n",
       "    </tr>\n",
       "    <tr>\n",
       "      <th>25%</th>\n",
       "      <td>2.00</td>\n",
       "      <td>1.00</td>\n",
       "      <td>152.00</td>\n",
       "      <td>-37.86</td>\n",
       "      <td>144.93</td>\n",
       "    </tr>\n",
       "    <tr>\n",
       "      <th>50%</th>\n",
       "      <td>3.00</td>\n",
       "      <td>1.00</td>\n",
       "      <td>373.00</td>\n",
       "      <td>-37.80</td>\n",
       "      <td>145.00</td>\n",
       "    </tr>\n",
       "    <tr>\n",
       "      <th>75%</th>\n",
       "      <td>4.00</td>\n",
       "      <td>2.00</td>\n",
       "      <td>628.00</td>\n",
       "      <td>-37.76</td>\n",
       "      <td>145.05</td>\n",
       "    </tr>\n",
       "    <tr>\n",
       "      <th>max</th>\n",
       "      <td>8.00</td>\n",
       "      <td>8.00</td>\n",
       "      <td>37,000.00</td>\n",
       "      <td>-37.46</td>\n",
       "      <td>145.53</td>\n",
       "    </tr>\n",
       "  </tbody>\n",
       "</table>\n",
       "</div>"
      ],
      "text/plain": [
       "         Rooms  Bathroom  Landsize  Lattitude  Longtitude\n",
       "count 6,196.00  6,196.00  6,196.00   6,196.00    6,196.00\n",
       "mean      2.93      1.58    471.01     -37.81      144.99\n",
       "std       0.97      0.71    897.45       0.08        0.10\n",
       "min       1.00      1.00      0.00     -38.16      144.54\n",
       "25%       2.00      1.00    152.00     -37.86      144.93\n",
       "50%       3.00      1.00    373.00     -37.80      145.00\n",
       "75%       4.00      2.00    628.00     -37.76      145.05\n",
       "max       8.00      8.00 37,000.00     -37.46      145.53"
      ]
     },
     "execution_count": 58,
     "metadata": {},
     "output_type": "execute_result"
    }
   ],
   "source": [
    "X.describe()"
   ]
  },
  {
   "cell_type": "code",
   "execution_count": 59,
   "id": "8c466a51-6c75-4f2c-9404-8c837f3be43d",
   "metadata": {},
   "outputs": [
    {
     "data": {
      "text/html": [
       "<div>\n",
       "<style scoped>\n",
       "    .dataframe tbody tr th:only-of-type {\n",
       "        vertical-align: middle;\n",
       "    }\n",
       "\n",
       "    .dataframe tbody tr th {\n",
       "        vertical-align: top;\n",
       "    }\n",
       "\n",
       "    .dataframe thead th {\n",
       "        text-align: right;\n",
       "    }\n",
       "</style>\n",
       "<table border=\"1\" class=\"dataframe\">\n",
       "  <thead>\n",
       "    <tr style=\"text-align: right;\">\n",
       "      <th></th>\n",
       "      <th>Rooms</th>\n",
       "      <th>Bathroom</th>\n",
       "      <th>Landsize</th>\n",
       "      <th>Lattitude</th>\n",
       "      <th>Longtitude</th>\n",
       "    </tr>\n",
       "  </thead>\n",
       "  <tbody>\n",
       "    <tr>\n",
       "      <th>1</th>\n",
       "      <td>2</td>\n",
       "      <td>1.00</td>\n",
       "      <td>156.00</td>\n",
       "      <td>-37.81</td>\n",
       "      <td>144.99</td>\n",
       "    </tr>\n",
       "    <tr>\n",
       "      <th>2</th>\n",
       "      <td>3</td>\n",
       "      <td>2.00</td>\n",
       "      <td>134.00</td>\n",
       "      <td>-37.81</td>\n",
       "      <td>144.99</td>\n",
       "    </tr>\n",
       "    <tr>\n",
       "      <th>4</th>\n",
       "      <td>4</td>\n",
       "      <td>1.00</td>\n",
       "      <td>120.00</td>\n",
       "      <td>-37.81</td>\n",
       "      <td>144.99</td>\n",
       "    </tr>\n",
       "    <tr>\n",
       "      <th>6</th>\n",
       "      <td>3</td>\n",
       "      <td>2.00</td>\n",
       "      <td>245.00</td>\n",
       "      <td>-37.80</td>\n",
       "      <td>145.00</td>\n",
       "    </tr>\n",
       "    <tr>\n",
       "      <th>7</th>\n",
       "      <td>2</td>\n",
       "      <td>1.00</td>\n",
       "      <td>256.00</td>\n",
       "      <td>-37.81</td>\n",
       "      <td>145.00</td>\n",
       "    </tr>\n",
       "  </tbody>\n",
       "</table>\n",
       "</div>"
      ],
      "text/plain": [
       "   Rooms  Bathroom  Landsize  Lattitude  Longtitude\n",
       "1      2      1.00    156.00     -37.81      144.99\n",
       "2      3      2.00    134.00     -37.81      144.99\n",
       "4      4      1.00    120.00     -37.81      144.99\n",
       "6      3      2.00    245.00     -37.80      145.00\n",
       "7      2      1.00    256.00     -37.81      145.00"
      ]
     },
     "execution_count": 59,
     "metadata": {},
     "output_type": "execute_result"
    }
   ],
   "source": [
    "X.head()"
   ]
  },
  {
   "cell_type": "markdown",
   "id": "735f3707-c338-4805-961b-6f6f06e2a92d",
   "metadata": {},
   "source": [
    "# Decision Tree Regressor Model"
   ]
  },
  {
   "cell_type": "markdown",
   "id": "391a4c3c-c648-427e-9843-e9f93d3858e7",
   "metadata": {},
   "source": [
    "# Building the Model with Scikit-Learn Python Library"
   ]
  },
  {
   "cell_type": "markdown",
   "id": "9610fa52-51a0-4503-88d8-f2b4bf7fbb9e",
   "metadata": {},
   "source": [
    "When coding, this library is written as sklearn\n",
    "\n",
    "### The steps to building and using a model are:\n",
    "\n",
    "Define: What type of model will it be? A decision tree? Some other type of model? Some other parameters of the model type are specified too.\n",
    "\n",
    "Fit: Capture patterns from provided data. This is the heart of modeling.\n",
    "\n",
    "Predict: Just what it sounds like\n",
    "\n",
    "Evaluate: Determine how accurate the model's predictions are."
   ]
  },
  {
   "cell_type": "markdown",
   "id": "cc45a670-3203-47a3-971d-f16d6cd621c2",
   "metadata": {},
   "source": [
    "# Define and Fit the Model"
   ]
  },
  {
   "cell_type": "code",
   "execution_count": 60,
   "id": "d5f4afe0-cf06-4bed-aa28-ea042c6074e2",
   "metadata": {},
   "outputs": [
    {
     "name": "stdout",
     "output_type": "stream",
     "text": [
      "Found existing installation: scikit-learn 1.4.2\n",
      "Uninstalling scikit-learn-1.4.2:\n",
      "  Would remove:\n",
      "    /Volumes/Memory/kaggle/machine_learning/ml-venv/lib/python3.12/site-packages/scikit_learn-1.4.2.dist-info/*\n",
      "    /Volumes/Memory/kaggle/machine_learning/ml-venv/lib/python3.12/site-packages/sklearn/*\n",
      "Proceed (Y/n)? ^C\n",
      "\u001b[31mERROR: Operation cancelled by user\u001b[0m\u001b[31m\n",
      "\u001b[0mRequirement already satisfied: scikit-learn in ./ml-venv/lib/python3.12/site-packages (1.4.2)\n",
      "Requirement already satisfied: numpy>=1.19.5 in ./ml-venv/lib/python3.12/site-packages (from scikit-learn) (1.26.4)\n",
      "Requirement already satisfied: scipy>=1.6.0 in ./ml-venv/lib/python3.12/site-packages (from scikit-learn) (1.13.0)\n",
      "Requirement already satisfied: joblib>=1.2.0 in ./ml-venv/lib/python3.12/site-packages (from scikit-learn) (1.4.2)\n",
      "Requirement already satisfied: threadpoolctl>=2.0.0 in ./ml-venv/lib/python3.12/site-packages (from scikit-learn) (3.5.0)\n"
     ]
    }
   ],
   "source": [
    "!pip uninstall scikit-learn\n",
    "!pip install scikit-learn"
   ]
  },
  {
   "cell_type": "code",
   "execution_count": 61,
   "id": "a069081c-3b11-4dd4-9f2e-b1e91ebcdb52",
   "metadata": {},
   "outputs": [
    {
     "data": {
      "text/html": [
       "<style>#sk-container-id-2 {\n",
       "  /* Definition of color scheme common for light and dark mode */\n",
       "  --sklearn-color-text: black;\n",
       "  --sklearn-color-line: gray;\n",
       "  /* Definition of color scheme for unfitted estimators */\n",
       "  --sklearn-color-unfitted-level-0: #fff5e6;\n",
       "  --sklearn-color-unfitted-level-1: #f6e4d2;\n",
       "  --sklearn-color-unfitted-level-2: #ffe0b3;\n",
       "  --sklearn-color-unfitted-level-3: chocolate;\n",
       "  /* Definition of color scheme for fitted estimators */\n",
       "  --sklearn-color-fitted-level-0: #f0f8ff;\n",
       "  --sklearn-color-fitted-level-1: #d4ebff;\n",
       "  --sklearn-color-fitted-level-2: #b3dbfd;\n",
       "  --sklearn-color-fitted-level-3: cornflowerblue;\n",
       "\n",
       "  /* Specific color for light theme */\n",
       "  --sklearn-color-text-on-default-background: var(--sg-text-color, var(--theme-code-foreground, var(--jp-content-font-color1, black)));\n",
       "  --sklearn-color-background: var(--sg-background-color, var(--theme-background, var(--jp-layout-color0, white)));\n",
       "  --sklearn-color-border-box: var(--sg-text-color, var(--theme-code-foreground, var(--jp-content-font-color1, black)));\n",
       "  --sklearn-color-icon: #696969;\n",
       "\n",
       "  @media (prefers-color-scheme: dark) {\n",
       "    /* Redefinition of color scheme for dark theme */\n",
       "    --sklearn-color-text-on-default-background: var(--sg-text-color, var(--theme-code-foreground, var(--jp-content-font-color1, white)));\n",
       "    --sklearn-color-background: var(--sg-background-color, var(--theme-background, var(--jp-layout-color0, #111)));\n",
       "    --sklearn-color-border-box: var(--sg-text-color, var(--theme-code-foreground, var(--jp-content-font-color1, white)));\n",
       "    --sklearn-color-icon: #878787;\n",
       "  }\n",
       "}\n",
       "\n",
       "#sk-container-id-2 {\n",
       "  color: var(--sklearn-color-text);\n",
       "}\n",
       "\n",
       "#sk-container-id-2 pre {\n",
       "  padding: 0;\n",
       "}\n",
       "\n",
       "#sk-container-id-2 input.sk-hidden--visually {\n",
       "  border: 0;\n",
       "  clip: rect(1px 1px 1px 1px);\n",
       "  clip: rect(1px, 1px, 1px, 1px);\n",
       "  height: 1px;\n",
       "  margin: -1px;\n",
       "  overflow: hidden;\n",
       "  padding: 0;\n",
       "  position: absolute;\n",
       "  width: 1px;\n",
       "}\n",
       "\n",
       "#sk-container-id-2 div.sk-dashed-wrapped {\n",
       "  border: 1px dashed var(--sklearn-color-line);\n",
       "  margin: 0 0.4em 0.5em 0.4em;\n",
       "  box-sizing: border-box;\n",
       "  padding-bottom: 0.4em;\n",
       "  background-color: var(--sklearn-color-background);\n",
       "}\n",
       "\n",
       "#sk-container-id-2 div.sk-container {\n",
       "  /* jupyter's `normalize.less` sets `[hidden] { display: none; }`\n",
       "     but bootstrap.min.css set `[hidden] { display: none !important; }`\n",
       "     so we also need the `!important` here to be able to override the\n",
       "     default hidden behavior on the sphinx rendered scikit-learn.org.\n",
       "     See: https://github.com/scikit-learn/scikit-learn/issues/21755 */\n",
       "  display: inline-block !important;\n",
       "  position: relative;\n",
       "}\n",
       "\n",
       "#sk-container-id-2 div.sk-text-repr-fallback {\n",
       "  display: none;\n",
       "}\n",
       "\n",
       "div.sk-parallel-item,\n",
       "div.sk-serial,\n",
       "div.sk-item {\n",
       "  /* draw centered vertical line to link estimators */\n",
       "  background-image: linear-gradient(var(--sklearn-color-text-on-default-background), var(--sklearn-color-text-on-default-background));\n",
       "  background-size: 2px 100%;\n",
       "  background-repeat: no-repeat;\n",
       "  background-position: center center;\n",
       "}\n",
       "\n",
       "/* Parallel-specific style estimator block */\n",
       "\n",
       "#sk-container-id-2 div.sk-parallel-item::after {\n",
       "  content: \"\";\n",
       "  width: 100%;\n",
       "  border-bottom: 2px solid var(--sklearn-color-text-on-default-background);\n",
       "  flex-grow: 1;\n",
       "}\n",
       "\n",
       "#sk-container-id-2 div.sk-parallel {\n",
       "  display: flex;\n",
       "  align-items: stretch;\n",
       "  justify-content: center;\n",
       "  background-color: var(--sklearn-color-background);\n",
       "  position: relative;\n",
       "}\n",
       "\n",
       "#sk-container-id-2 div.sk-parallel-item {\n",
       "  display: flex;\n",
       "  flex-direction: column;\n",
       "}\n",
       "\n",
       "#sk-container-id-2 div.sk-parallel-item:first-child::after {\n",
       "  align-self: flex-end;\n",
       "  width: 50%;\n",
       "}\n",
       "\n",
       "#sk-container-id-2 div.sk-parallel-item:last-child::after {\n",
       "  align-self: flex-start;\n",
       "  width: 50%;\n",
       "}\n",
       "\n",
       "#sk-container-id-2 div.sk-parallel-item:only-child::after {\n",
       "  width: 0;\n",
       "}\n",
       "\n",
       "/* Serial-specific style estimator block */\n",
       "\n",
       "#sk-container-id-2 div.sk-serial {\n",
       "  display: flex;\n",
       "  flex-direction: column;\n",
       "  align-items: center;\n",
       "  background-color: var(--sklearn-color-background);\n",
       "  padding-right: 1em;\n",
       "  padding-left: 1em;\n",
       "}\n",
       "\n",
       "\n",
       "/* Toggleable style: style used for estimator/Pipeline/ColumnTransformer box that is\n",
       "clickable and can be expanded/collapsed.\n",
       "- Pipeline and ColumnTransformer use this feature and define the default style\n",
       "- Estimators will overwrite some part of the style using the `sk-estimator` class\n",
       "*/\n",
       "\n",
       "/* Pipeline and ColumnTransformer style (default) */\n",
       "\n",
       "#sk-container-id-2 div.sk-toggleable {\n",
       "  /* Default theme specific background. It is overwritten whether we have a\n",
       "  specific estimator or a Pipeline/ColumnTransformer */\n",
       "  background-color: var(--sklearn-color-background);\n",
       "}\n",
       "\n",
       "/* Toggleable label */\n",
       "#sk-container-id-2 label.sk-toggleable__label {\n",
       "  cursor: pointer;\n",
       "  display: block;\n",
       "  width: 100%;\n",
       "  margin-bottom: 0;\n",
       "  padding: 0.5em;\n",
       "  box-sizing: border-box;\n",
       "  text-align: center;\n",
       "}\n",
       "\n",
       "#sk-container-id-2 label.sk-toggleable__label-arrow:before {\n",
       "  /* Arrow on the left of the label */\n",
       "  content: \"▸\";\n",
       "  float: left;\n",
       "  margin-right: 0.25em;\n",
       "  color: var(--sklearn-color-icon);\n",
       "}\n",
       "\n",
       "#sk-container-id-2 label.sk-toggleable__label-arrow:hover:before {\n",
       "  color: var(--sklearn-color-text);\n",
       "}\n",
       "\n",
       "/* Toggleable content - dropdown */\n",
       "\n",
       "#sk-container-id-2 div.sk-toggleable__content {\n",
       "  max-height: 0;\n",
       "  max-width: 0;\n",
       "  overflow: hidden;\n",
       "  text-align: left;\n",
       "  /* unfitted */\n",
       "  background-color: var(--sklearn-color-unfitted-level-0);\n",
       "}\n",
       "\n",
       "#sk-container-id-2 div.sk-toggleable__content.fitted {\n",
       "  /* fitted */\n",
       "  background-color: var(--sklearn-color-fitted-level-0);\n",
       "}\n",
       "\n",
       "#sk-container-id-2 div.sk-toggleable__content pre {\n",
       "  margin: 0.2em;\n",
       "  border-radius: 0.25em;\n",
       "  color: var(--sklearn-color-text);\n",
       "  /* unfitted */\n",
       "  background-color: var(--sklearn-color-unfitted-level-0);\n",
       "}\n",
       "\n",
       "#sk-container-id-2 div.sk-toggleable__content.fitted pre {\n",
       "  /* unfitted */\n",
       "  background-color: var(--sklearn-color-fitted-level-0);\n",
       "}\n",
       "\n",
       "#sk-container-id-2 input.sk-toggleable__control:checked~div.sk-toggleable__content {\n",
       "  /* Expand drop-down */\n",
       "  max-height: 200px;\n",
       "  max-width: 100%;\n",
       "  overflow: auto;\n",
       "}\n",
       "\n",
       "#sk-container-id-2 input.sk-toggleable__control:checked~label.sk-toggleable__label-arrow:before {\n",
       "  content: \"▾\";\n",
       "}\n",
       "\n",
       "/* Pipeline/ColumnTransformer-specific style */\n",
       "\n",
       "#sk-container-id-2 div.sk-label input.sk-toggleable__control:checked~label.sk-toggleable__label {\n",
       "  color: var(--sklearn-color-text);\n",
       "  background-color: var(--sklearn-color-unfitted-level-2);\n",
       "}\n",
       "\n",
       "#sk-container-id-2 div.sk-label.fitted input.sk-toggleable__control:checked~label.sk-toggleable__label {\n",
       "  background-color: var(--sklearn-color-fitted-level-2);\n",
       "}\n",
       "\n",
       "/* Estimator-specific style */\n",
       "\n",
       "/* Colorize estimator box */\n",
       "#sk-container-id-2 div.sk-estimator input.sk-toggleable__control:checked~label.sk-toggleable__label {\n",
       "  /* unfitted */\n",
       "  background-color: var(--sklearn-color-unfitted-level-2);\n",
       "}\n",
       "\n",
       "#sk-container-id-2 div.sk-estimator.fitted input.sk-toggleable__control:checked~label.sk-toggleable__label {\n",
       "  /* fitted */\n",
       "  background-color: var(--sklearn-color-fitted-level-2);\n",
       "}\n",
       "\n",
       "#sk-container-id-2 div.sk-label label.sk-toggleable__label,\n",
       "#sk-container-id-2 div.sk-label label {\n",
       "  /* The background is the default theme color */\n",
       "  color: var(--sklearn-color-text-on-default-background);\n",
       "}\n",
       "\n",
       "/* On hover, darken the color of the background */\n",
       "#sk-container-id-2 div.sk-label:hover label.sk-toggleable__label {\n",
       "  color: var(--sklearn-color-text);\n",
       "  background-color: var(--sklearn-color-unfitted-level-2);\n",
       "}\n",
       "\n",
       "/* Label box, darken color on hover, fitted */\n",
       "#sk-container-id-2 div.sk-label.fitted:hover label.sk-toggleable__label.fitted {\n",
       "  color: var(--sklearn-color-text);\n",
       "  background-color: var(--sklearn-color-fitted-level-2);\n",
       "}\n",
       "\n",
       "/* Estimator label */\n",
       "\n",
       "#sk-container-id-2 div.sk-label label {\n",
       "  font-family: monospace;\n",
       "  font-weight: bold;\n",
       "  display: inline-block;\n",
       "  line-height: 1.2em;\n",
       "}\n",
       "\n",
       "#sk-container-id-2 div.sk-label-container {\n",
       "  text-align: center;\n",
       "}\n",
       "\n",
       "/* Estimator-specific */\n",
       "#sk-container-id-2 div.sk-estimator {\n",
       "  font-family: monospace;\n",
       "  border: 1px dotted var(--sklearn-color-border-box);\n",
       "  border-radius: 0.25em;\n",
       "  box-sizing: border-box;\n",
       "  margin-bottom: 0.5em;\n",
       "  /* unfitted */\n",
       "  background-color: var(--sklearn-color-unfitted-level-0);\n",
       "}\n",
       "\n",
       "#sk-container-id-2 div.sk-estimator.fitted {\n",
       "  /* fitted */\n",
       "  background-color: var(--sklearn-color-fitted-level-0);\n",
       "}\n",
       "\n",
       "/* on hover */\n",
       "#sk-container-id-2 div.sk-estimator:hover {\n",
       "  /* unfitted */\n",
       "  background-color: var(--sklearn-color-unfitted-level-2);\n",
       "}\n",
       "\n",
       "#sk-container-id-2 div.sk-estimator.fitted:hover {\n",
       "  /* fitted */\n",
       "  background-color: var(--sklearn-color-fitted-level-2);\n",
       "}\n",
       "\n",
       "/* Specification for estimator info (e.g. \"i\" and \"?\") */\n",
       "\n",
       "/* Common style for \"i\" and \"?\" */\n",
       "\n",
       ".sk-estimator-doc-link,\n",
       "a:link.sk-estimator-doc-link,\n",
       "a:visited.sk-estimator-doc-link {\n",
       "  float: right;\n",
       "  font-size: smaller;\n",
       "  line-height: 1em;\n",
       "  font-family: monospace;\n",
       "  background-color: var(--sklearn-color-background);\n",
       "  border-radius: 1em;\n",
       "  height: 1em;\n",
       "  width: 1em;\n",
       "  text-decoration: none !important;\n",
       "  margin-left: 1ex;\n",
       "  /* unfitted */\n",
       "  border: var(--sklearn-color-unfitted-level-1) 1pt solid;\n",
       "  color: var(--sklearn-color-unfitted-level-1);\n",
       "}\n",
       "\n",
       ".sk-estimator-doc-link.fitted,\n",
       "a:link.sk-estimator-doc-link.fitted,\n",
       "a:visited.sk-estimator-doc-link.fitted {\n",
       "  /* fitted */\n",
       "  border: var(--sklearn-color-fitted-level-1) 1pt solid;\n",
       "  color: var(--sklearn-color-fitted-level-1);\n",
       "}\n",
       "\n",
       "/* On hover */\n",
       "div.sk-estimator:hover .sk-estimator-doc-link:hover,\n",
       ".sk-estimator-doc-link:hover,\n",
       "div.sk-label-container:hover .sk-estimator-doc-link:hover,\n",
       ".sk-estimator-doc-link:hover {\n",
       "  /* unfitted */\n",
       "  background-color: var(--sklearn-color-unfitted-level-3);\n",
       "  color: var(--sklearn-color-background);\n",
       "  text-decoration: none;\n",
       "}\n",
       "\n",
       "div.sk-estimator.fitted:hover .sk-estimator-doc-link.fitted:hover,\n",
       ".sk-estimator-doc-link.fitted:hover,\n",
       "div.sk-label-container:hover .sk-estimator-doc-link.fitted:hover,\n",
       ".sk-estimator-doc-link.fitted:hover {\n",
       "  /* fitted */\n",
       "  background-color: var(--sklearn-color-fitted-level-3);\n",
       "  color: var(--sklearn-color-background);\n",
       "  text-decoration: none;\n",
       "}\n",
       "\n",
       "/* Span, style for the box shown on hovering the info icon */\n",
       ".sk-estimator-doc-link span {\n",
       "  display: none;\n",
       "  z-index: 9999;\n",
       "  position: relative;\n",
       "  font-weight: normal;\n",
       "  right: .2ex;\n",
       "  padding: .5ex;\n",
       "  margin: .5ex;\n",
       "  width: min-content;\n",
       "  min-width: 20ex;\n",
       "  max-width: 50ex;\n",
       "  color: var(--sklearn-color-text);\n",
       "  box-shadow: 2pt 2pt 4pt #999;\n",
       "  /* unfitted */\n",
       "  background: var(--sklearn-color-unfitted-level-0);\n",
       "  border: .5pt solid var(--sklearn-color-unfitted-level-3);\n",
       "}\n",
       "\n",
       ".sk-estimator-doc-link.fitted span {\n",
       "  /* fitted */\n",
       "  background: var(--sklearn-color-fitted-level-0);\n",
       "  border: var(--sklearn-color-fitted-level-3);\n",
       "}\n",
       "\n",
       ".sk-estimator-doc-link:hover span {\n",
       "  display: block;\n",
       "}\n",
       "\n",
       "/* \"?\"-specific style due to the `<a>` HTML tag */\n",
       "\n",
       "#sk-container-id-2 a.estimator_doc_link {\n",
       "  float: right;\n",
       "  font-size: 1rem;\n",
       "  line-height: 1em;\n",
       "  font-family: monospace;\n",
       "  background-color: var(--sklearn-color-background);\n",
       "  border-radius: 1rem;\n",
       "  height: 1rem;\n",
       "  width: 1rem;\n",
       "  text-decoration: none;\n",
       "  /* unfitted */\n",
       "  color: var(--sklearn-color-unfitted-level-1);\n",
       "  border: var(--sklearn-color-unfitted-level-1) 1pt solid;\n",
       "}\n",
       "\n",
       "#sk-container-id-2 a.estimator_doc_link.fitted {\n",
       "  /* fitted */\n",
       "  border: var(--sklearn-color-fitted-level-1) 1pt solid;\n",
       "  color: var(--sklearn-color-fitted-level-1);\n",
       "}\n",
       "\n",
       "/* On hover */\n",
       "#sk-container-id-2 a.estimator_doc_link:hover {\n",
       "  /* unfitted */\n",
       "  background-color: var(--sklearn-color-unfitted-level-3);\n",
       "  color: var(--sklearn-color-background);\n",
       "  text-decoration: none;\n",
       "}\n",
       "\n",
       "#sk-container-id-2 a.estimator_doc_link.fitted:hover {\n",
       "  /* fitted */\n",
       "  background-color: var(--sklearn-color-fitted-level-3);\n",
       "}\n",
       "</style><div id=\"sk-container-id-2\" class=\"sk-top-container\"><div class=\"sk-text-repr-fallback\"><pre>DecisionTreeRegressor(random_state=1)</pre><b>In a Jupyter environment, please rerun this cell to show the HTML representation or trust the notebook. <br />On GitHub, the HTML representation is unable to render, please try loading this page with nbviewer.org.</b></div><div class=\"sk-container\" hidden><div class=\"sk-item\"><div class=\"sk-estimator fitted sk-toggleable\"><input class=\"sk-toggleable__control sk-hidden--visually\" id=\"sk-estimator-id-2\" type=\"checkbox\" checked><label for=\"sk-estimator-id-2\" class=\"sk-toggleable__label fitted sk-toggleable__label-arrow fitted\">&nbsp;&nbsp;DecisionTreeRegressor<a class=\"sk-estimator-doc-link fitted\" rel=\"noreferrer\" target=\"_blank\" href=\"https://scikit-learn.org/1.4/modules/generated/sklearn.tree.DecisionTreeRegressor.html\">?<span>Documentation for DecisionTreeRegressor</span></a><span class=\"sk-estimator-doc-link fitted\">i<span>Fitted</span></span></label><div class=\"sk-toggleable__content fitted\"><pre>DecisionTreeRegressor(random_state=1)</pre></div> </div></div></div></div>"
      ],
      "text/plain": [
       "DecisionTreeRegressor(random_state=1)"
      ]
     },
     "execution_count": 61,
     "metadata": {},
     "output_type": "execute_result"
    }
   ],
   "source": [
    "from sklearn.tree import DecisionTreeRegressor\n",
    "\n",
    "melbourne_model = DecisionTreeRegressor(random_state=1)\n",
    "\n",
    "melbourne_model.fit(X, y)"
   ]
  },
  {
   "cell_type": "markdown",
   "id": "7be5ed40-a470-4e11-9348-ef0f86284ad4",
   "metadata": {},
   "source": [
    "### Making a Test predictions"
   ]
  },
  {
   "cell_type": "code",
   "execution_count": 62,
   "id": "6d4f802c-71a1-4cc1-8ce7-8014b032af90",
   "metadata": {},
   "outputs": [
    {
     "name": "stdout",
     "output_type": "stream",
     "text": [
      "Making predictions for the following 5 houses:\n",
      "   Rooms  Bathroom  Landsize  Lattitude  Longtitude\n",
      "1      2      1.00    156.00     -37.81      144.99\n",
      "2      3      2.00    134.00     -37.81      144.99\n",
      "4      4      1.00    120.00     -37.81      144.99\n",
      "6      3      2.00    245.00     -37.80      145.00\n",
      "7      2      1.00    256.00     -37.81      145.00\n",
      "The predictions are\n",
      "[1035000. 1465000. 1600000. 1876000. 1636000.]\n"
     ]
    }
   ],
   "source": [
    "print(\"Making predictions for the following 5 houses:\")\n",
    "print(X.head())\n",
    "print(\"The predictions are\")\n",
    "print(melbourne_model.predict(X.head()))"
   ]
  },
  {
   "cell_type": "markdown",
   "id": "d64fd941-5452-4202-8ca1-9cf3fa52a8dd",
   "metadata": {},
   "source": [
    "### Calculating the Mean Absolute Error MAE for the model"
   ]
  },
  {
   "cell_type": "code",
   "execution_count": 63,
   "id": "e679a9ea-2674-4cef-9433-e4d95301f727",
   "metadata": {},
   "outputs": [
    {
     "name": "stdout",
     "output_type": "stream",
     "text": [
      "1115.7467183128902\n"
     ]
    }
   ],
   "source": [
    "from sklearn.metrics import mean_absolute_error\n",
    "\n",
    "predicted_home_prices = melbourne_model.predict(X)\n",
    "print(mean_absolute_error(y, predicted_home_prices))"
   ]
  },
  {
   "cell_type": "markdown",
   "id": "fe82756c-0773-428d-bef4-2081c94d6cb8",
   "metadata": {},
   "source": [
    "### Split the data into two - one for training the model and another for validating the model MAE"
   ]
  },
  {
   "cell_type": "code",
   "execution_count": 64,
   "id": "9aaf1668-f6e4-4886-a50f-05454e089c00",
   "metadata": {},
   "outputs": [
    {
     "name": "stdout",
     "output_type": "stream",
     "text": [
      "274033.01097482245\n"
     ]
    }
   ],
   "source": [
    "from sklearn.model_selection import train_test_split\n",
    "\n",
    "# Split the data\n",
    "train_X, val_X, train_y, val_y = train_test_split(X, y, random_state = 0)\n",
    "# Define the model\n",
    "melbourne_model = DecisionTreeRegressor()\n",
    "# Fit the model\n",
    "melbourne_model.fit(train_X, train_y)\n",
    "\n",
    "# Get predicted price on validation (val) data\n",
    "val_predictions = melbourne_model.predict(val_X)\n",
    "print(mean_absolute_error(val_y, val_predictions))"
   ]
  },
  {
   "cell_type": "markdown",
   "id": "18996589-9a41-4a24-b2d4-934db492e4ba",
   "metadata": {},
   "source": [
    "# Underfitting and Overfitting"
   ]
  },
  {
   "cell_type": "code",
   "execution_count": 65,
   "id": "583a4af4-8a1b-48ba-aae3-31569e596a97",
   "metadata": {},
   "outputs": [],
   "source": [
    "from sklearn.metrics import mean_absolute_error\n",
    "from sklearn.tree import DecisionTreeRegressor\n",
    "\n",
    "def get_mae(max_leaf_nodes, train_X, val_X, tain_y, val_y):\n",
    "    model = DecisionTreeRegressor(max_leaf_nodes=max_leaf_nodes, random_state=0)\n",
    "    model.fit(train_X, train_y)\n",
    "    preds_val = model.predict(val_X)\n",
    "    mae = mean_absolute_error(val_y, preds_val)\n",
    "    return(mae)\n"
   ]
  },
  {
   "cell_type": "code",
   "execution_count": 66,
   "id": "6f132485-9e8d-47f1-ae3b-fa9ae1415a55",
   "metadata": {},
   "outputs": [],
   "source": [
    "import pandas as pd\n",
    "from sklearn.model_selection import train_test_split\n",
    "\n",
    "melbourne_file_path = '/Volumes/Memory/kaggle/machine_learning/melb_data.csv'\n",
    "melbourne_data = pd.read_csv(melbourne_file_path)\n",
    "\n",
    "filtered_melbourne_data = melbourne_data.dropna(axis=0)\n",
    "\n",
    "melbourne_features = ['Rooms', 'Bathroom', 'Landsize', 'BuildingArea', 'YearBuilt', 'Lattitude', 'Longtitude']\n",
    "y = filtered_melbourne_data.Price\n",
    "X = filtered_melbourne_data[melbourne_features]\n",
    "\n",
    "train_X, val_X, train_y, val_y = train_test_split(X, y, random_state = 0)"
   ]
  },
  {
   "cell_type": "markdown",
   "id": "0eaf190a-ffdc-49ee-bb11-5a22fd0ac73e",
   "metadata": {},
   "source": [
    "### Compare the MAE with differing values of max_leaf_nodes through a for-loop"
   ]
  },
  {
   "cell_type": "code",
   "execution_count": 67,
   "id": "75a18e8b-68ec-472d-b2c4-70612d2e20bd",
   "metadata": {},
   "outputs": [
    {
     "name": "stdout",
     "output_type": "stream",
     "text": [
      "Max leaf nodes: 5 \t\t Mean Absolute Error: 347380\n",
      "Max leaf nodes: 50 \t\t Mean Absolute Error: 258171\n",
      "Max leaf nodes: 500 \t\t Mean Absolute Error: 243495\n",
      "Max leaf nodes: 5000 \t\t Mean Absolute Error: 254983\n"
     ]
    }
   ],
   "source": [
    "max_leaf_nodes_candidates = [5, 50, 500, 5000]\n",
    "mae_values = []\n",
    "for max_leaf_nodes in max_leaf_nodes_candidates:\n",
    "    my_mae = get_mae(max_leaf_nodes, train_X, val_X, train_y, val_y)\n",
    "    mae_values.append(my_mae)\n",
    "    print(\"Max leaf nodes: %d \\t\\t Mean Absolute Error: %d\" %(max_leaf_nodes, my_mae))"
   ]
  },
  {
   "cell_type": "code",
   "execution_count": 68,
   "id": "147f177a-4d04-4e04-a1d1-cac626293cc6",
   "metadata": {},
   "outputs": [
    {
     "data": {
      "text/plain": [
       "2"
      ]
     },
     "execution_count": 68,
     "metadata": {},
     "output_type": "execute_result"
    }
   ],
   "source": [
    "import numpy as np\n",
    "best_mae_index = np.argmin(mae_values)\n",
    "best_mae_index"
   ]
  },
  {
   "cell_type": "code",
   "execution_count": 69,
   "id": "1d1f7ff1-15ca-4626-8fcb-dbdaaa5a86c9",
   "metadata": {},
   "outputs": [
    {
     "data": {
      "text/plain": [
       "500"
      ]
     },
     "execution_count": 69,
     "metadata": {},
     "output_type": "execute_result"
    }
   ],
   "source": [
    "best_tree_size = max_leaf_nodes_candidates[best_mae_index]\n",
    "best_tree_size"
   ]
  },
  {
   "cell_type": "markdown",
   "id": "4c796af7-c88e-4e1b-880d-bc239811d131",
   "metadata": {},
   "source": [
    "# Random Forest Model"
   ]
  },
  {
   "cell_type": "code",
   "execution_count": 70,
   "id": "fb3cfa89-f00e-47e7-aba1-55fcfa000522",
   "metadata": {},
   "outputs": [],
   "source": [
    "import pandas as pd\n",
    "from sklearn.model_selection import train_test_split\n",
    "\n",
    "def format_with_commas(x):\n",
    "    return '{:,.2f}'.format(x)\n",
    "pd.options.display.float_format = format_with_commas\n",
    "\n",
    "melbourne_file_path = '/Volumes/Memory/kaggle/machine_learning/melb_data.csv'\n",
    "melbourne_data = pd.read_csv(melbourne_file_path)\n",
    "\n",
    "filtered_melbourne_data = melbourne_data.dropna(axis=0)\n",
    "\n",
    "melbourne_features = ['Rooms', 'Bathroom', 'Landsize', 'BuildingArea', 'YearBuilt', 'Lattitude', 'Longtitude']\n",
    "y = filtered_melbourne_data.Price\n",
    "X = filtered_melbourne_data[melbourne_features]\n",
    "\n",
    "train_X, val_X, train_y, val_y = train_test_split(X, y, random_state = 0)"
   ]
  },
  {
   "cell_type": "code",
   "execution_count": 71,
   "id": "1a364ffd-13be-4284-bcea-60ae3ec4bff0",
   "metadata": {},
   "outputs": [],
   "source": [
    "from sklearn.ensemble import RandomForestRegressor\n",
    "from sklearn.metrics import mean_absolute_error\n",
    "\n",
    "def get_forest_mae(train_X, val_X, tain_y, val_y):\n",
    "    forest_model = RandomForestRegressor(random_state=1)\n",
    "    forest_model.fit(train_X, train_y)\n",
    "    melb_preds = forest_model.predict(val_X)\n",
    "    forest_mae = mean_absolute_error(val_y, melb_preds)\n",
    "    return(forest_mae)\n",
    "    "
   ]
  },
  {
   "cell_type": "code",
   "execution_count": 132,
   "id": "0e7f8722-4940-4a21-a695-2865dad1b53d",
   "metadata": {},
   "outputs": [
    {
     "name": "stdout",
     "output_type": "stream",
     "text": [
      "191,669.75\n"
     ]
    }
   ],
   "source": [
    "result = get_forest_mae(train_X, val_X, train_y, val_y)\n",
    "result_formatted = format_with_commas(result)\n",
    "print(result_formatted)"
   ]
  },
  {
   "cell_type": "markdown",
   "id": "c8bbcce5-9f14-49c5-86b4-fa4682337559",
   "metadata": {},
   "source": [
    "Intro to Machine Learning Course ends here"
   ]
  },
  {
   "cell_type": "markdown",
   "id": "a4c1cc46-e88e-4c6e-83db-f7e6ec7c0f76",
   "metadata": {},
   "source": [
    "# INTERMEDIATE MACHINE LEARNING"
   ]
  },
  {
   "cell_type": "markdown",
   "id": "25cde5fa-a9c0-4a88-9968-c2888e12745f",
   "metadata": {},
   "source": [
    "## Dealing with missing values (Three Approaches)\n",
    "Drop Columns with Missing Values, Imputation, An Extension To Imputation"
   ]
  },
  {
   "cell_type": "markdown",
   "id": "1a34b87f-b737-419e-b64a-a98c75eb575b",
   "metadata": {},
   "source": [
    "### 1-) A Simple Option: Drop Columns with Missing Values"
   ]
  },
  {
   "cell_type": "code",
   "execution_count": 108,
   "id": "2a0daf34-bb59-43ea-8834-07fed71ffd99",
   "metadata": {},
   "outputs": [],
   "source": [
    "import pandas as pd;\n",
    "from sklearn.model_selection import train_test_split\n",
    "\n",
    "data = pd.read_csv('/Volumes/Memory/kaggle/machine_learning/melb_data.csv')\n",
    "y = data.Price\n",
    "\n",
    "# To keep things simple, we'll use only numerical predictors\n",
    "melb_predictors = data.drop(['Price'], axis = 1)\n",
    "X = melb_predictors.select_dtypes(exclude = ['object'])\n",
    "# Divide data into training and validation subsets\n",
    "X_train, X_valid, y_train, y_valid = train_test_split(X, y, train_size = 0.8, test_size = 0.2, random_state = 0)"
   ]
  },
  {
   "cell_type": "code",
   "execution_count": 109,
   "id": "c73dc30d-a38c-498f-a77f-7d632e0ee689",
   "metadata": {},
   "outputs": [
    {
     "name": "stdout",
     "output_type": "stream",
     "text": [
      "(10864, 12)\n",
      "Car               49\n",
      "BuildingArea    5156\n",
      "YearBuilt       4307\n",
      "dtype: int64\n"
     ]
    }
   ],
   "source": [
    "# Shape of training data (num_rows, num_columns)\n",
    "print(X_train.shape)\n",
    "\n",
    "# Numbers of missing values in each column of training data\n",
    "missing_val_count_by_column = (X_train.isnull().sum())\n",
    "print(missing_val_count_by_column[missing_val_count_by_column > 0])"
   ]
  },
  {
   "cell_type": "markdown",
   "id": "fc237b9d-5bcf-4887-99ec-b5b09a48ad78",
   "metadata": {},
   "source": [
    "### Define Function to Measure Quality of Each Approach\n",
    "We define a function score_dataset() to compare different approaches to dealing with missing values. This function reports the mean absolute error (MAE) from a random forest model."
   ]
  },
  {
   "cell_type": "code",
   "execution_count": 110,
   "id": "25dcec89-3f14-4460-9021-1676c94ce02c",
   "metadata": {},
   "outputs": [],
   "source": [
    "from sklearn.ensemble import RandomForestRegressor\n",
    "from sklearn.metrics import mean_absolute_error\n",
    "\n",
    "\n",
    "# Function for comparing different approaches\n",
    "def score_dataset(X_train, X_valid, y_train, y_valid):\n",
    "    model = RandomForestRegressor(n_estimators = 10, random_state = 0)\n",
    "    model.fit(X_train, y_train)\n",
    "    preds = model.predict(X_valid)\n",
    "    return mean_absolute_error(y_valid, preds)"
   ]
  },
  {
   "cell_type": "markdown",
   "id": "3170c105-8703-4402-a6c3-457aaec9e31d",
   "metadata": {},
   "source": [
    "### Score from Approach 1 (Drop Columns with Missing Values)\n",
    "Since we are working with both training and validation sets, we are careful to drop the same columns in both DataFrames."
   ]
  },
  {
   "cell_type": "code",
   "execution_count": 111,
   "id": "c29ab7b6-cc44-486e-89a8-5d4a44140a04",
   "metadata": {},
   "outputs": [],
   "source": [
    "# Get names of columns with missing values\n",
    "cols_with_missing = [col for col in X_train.columns if X_train[col].isnull().any()]\n",
    "\n",
    "# Drop columns in training and validation data\n",
    "reduced_X_train = X_train.drop(cols_with_missing, axis = 1)\n",
    "reduced_X_valid = X_valid.drop(cols_with_missing, axis = 1)"
   ]
  },
  {
   "cell_type": "code",
   "execution_count": 112,
   "id": "bed5c5f9-cb2d-4fc6-be2d-5f369007cb4f",
   "metadata": {},
   "outputs": [
    {
     "name": "stdout",
     "output_type": "stream",
     "text": [
      "MAE from approach 1 (Drop columns  with missing values):\n",
      "183,550.22\n"
     ]
    }
   ],
   "source": [
    "print(\"MAE from approach 1 (Drop columns  with missing values):\")\n",
    "mae = score_dataset(reduced_X_train, reduced_X_valid, y_train, y_valid)\n",
    "formatted_mae = f\"{mae:,.2f}\"\n",
    "print(formatted_mae)"
   ]
  },
  {
   "cell_type": "markdown",
   "id": "95ab2f04-fc86-4b49-8a12-c0a8efff13b9",
   "metadata": {},
   "source": [
    "### 2-) A Better Option: Imputation\n",
    "Next, we use \"SimpleImputer\" to replace missing values with the mean value along each column."
   ]
  },
  {
   "cell_type": "code",
   "execution_count": 113,
   "id": "d3b35a3c-2937-47d0-8140-6754fe6cddb6",
   "metadata": {},
   "outputs": [],
   "source": [
    "from sklearn.impute import SimpleImputer\n",
    "\n",
    "# Imputation\n",
    "my_imputer = SimpleImputer()\n",
    "imputed_X_train = pd.DataFrame(my_imputer.fit_transform(X_train))\n",
    "imputed_X_valid = pd.DataFrame(my_imputer.transform(X_valid))\n",
    "\n",
    "# Imputation removed column names; put them back\n",
    "imputed_X_train.columns = X_train.columns\n",
    "imputed_X_valid.columns = X_valid.columns"
   ]
  },
  {
   "cell_type": "code",
   "execution_count": 114,
   "id": "9ffb1478-72c6-4b45-8c38-68f0ef9b673b",
   "metadata": {},
   "outputs": [
    {
     "name": "stdout",
     "output_type": "stream",
     "text": [
      "MAE from approach 2 (Imputation):\n",
      "178,166.46\n"
     ]
    }
   ],
   "source": [
    "print(\"MAE from approach 2 (Imputation):\")\n",
    "mae = score_dataset(imputed_X_train, imputed_X_valid, y_train, y_valid)\n",
    "formatted_mae = f\"{mae:,.2f}\"\n",
    "print(formatted_mae)"
   ]
  },
  {
   "cell_type": "markdown",
   "id": "62e0fbc2-e8b0-4395-9850-062adaf85720",
   "metadata": {},
   "source": [
    "We see that Approach 2 has lower MAE than Approach 1, so Approach 2 performed better on this dataset."
   ]
  },
  {
   "cell_type": "markdown",
   "id": "431c945c-b939-4f91-9f77-2ac0914c05eb",
   "metadata": {},
   "source": [
    "### 3-) An Extension To Imputation\n",
    "\n",
    "Next, we impute the missing values, while also keeping track of which values were imputed."
   ]
  },
  {
   "cell_type": "code",
   "execution_count": 115,
   "id": "eb7ba843-38c8-48a2-bd69-0e1ae544f43e",
   "metadata": {},
   "outputs": [],
   "source": [
    "# Make copy to avoid changing original data (when imputing)\n",
    "X_train_plus = X_train.copy()\n",
    "X_valid_plus = X_valid.copy()\n",
    "\n",
    "# Make new columns indicating what will be imputed\n",
    "for col in cols_with_missing:\n",
    "    X_train_plus[col + '_was_missing'] = X_train_plus[col].isnull()\n",
    "    X_valid_plus[col + '_was_missing'] = X_valid_plus[col].isnull()\n",
    "\n",
    "# Imputation\n",
    "my_imputer = SimpleImputer()\n",
    "imputed_X_train_plus = pd.DataFrame(my_imputer.fit_transform(X_train_plus))\n",
    "imputed_X_valid_plus = pd.DataFrame(my_imputer.transform(X_valid_plus))\n",
    "\n",
    "# Imputation removed column names; put them back\n",
    "imputed_X_train_plus.columns = X_train_plus.columns\n",
    "imputed_X_valid_plus.columns = X_valid_plus.columns"
   ]
  },
  {
   "cell_type": "code",
   "execution_count": 116,
   "id": "6e92fd00-2a77-47ce-b4f6-ed23fbd25b38",
   "metadata": {},
   "outputs": [
    {
     "name": "stdout",
     "output_type": "stream",
     "text": [
      "MAE from approach 3 (An Extension to Imputation):\n",
      "178,927.50\n"
     ]
    }
   ],
   "source": [
    "print(\"MAE from approach 3 (An Extension to Imputation):\")\n",
    "mae = score_dataset(imputed_X_train_plus, imputed_X_valid_plus, y_train, y_valid)\n",
    "formatted_mae = f\"{mae:,.2f}\"\n",
    "print(formatted_mae)"
   ]
  },
  {
   "cell_type": "markdown",
   "id": "4bccb427-381f-435e-8f08-9cb91157f7d3",
   "metadata": {},
   "source": [
    "## Categorical Variable"
   ]
  },
  {
   "cell_type": "markdown",
   "id": "62593c48-b90a-43b0-9ec2-dff7b8888042",
   "metadata": {},
   "source": [
    "## Dealing with categorical variables (Three Approaches)\n",
    "Drop Categorical Variables, Ordinal Encoding, One-Hot Encoding"
   ]
  },
  {
   "cell_type": "code",
   "execution_count": 124,
   "id": "1f2849c3-c569-4ecf-9ac7-24c7463d8ae9",
   "metadata": {},
   "outputs": [],
   "source": [
    "import pandas as pd\n",
    "from sklearn.model_selection import train_test_split\n",
    "\n",
    "# Read the data\n",
    "data = pd.read_csv('melb_data.csv')\n",
    "\n",
    "# Separate target from predictors\n",
    "y = data.Price\n",
    "X = data.drop(['Price'], axis = 1)\n",
    "\n",
    "# Divide data into training and validation subsets\n",
    "X_train_full, X_valid_full, y_train, y_valid = train_test_split(X, y, train_size = 0.8, test_size = 0.2, random_state = 0)\n",
    "\n",
    "# Drop columns with missing values (simplest approach)\n",
    "cols_with_missing = [col for col in X_train_full.columns if X_train_full[col].isnull().any()]\n",
    "X_train_full.drop(cols_with_missing, axis = 1, inplace = True)\n",
    "X_valid_full.drop(cols_with_missing, axis = 1, inplace = True)\n",
    "\n",
    "# Cardinality means the number of unique values in a column\n",
    "# Select categorical columns with relatively low cardinality (convenient but arbitrary)\n",
    "low_cardinality_cols = [cname for cname in X_train_full.columns if X_train_full[cname].nunique() < 10 and X_train_full[cname].dtype == \"object\"]\n",
    "\n",
    "# Select numerical columns\n",
    "numerical_cols = [cname for cname in X_train_full.columns if X_train_full[cname].dtype in ['int64', 'float64']]\n",
    "\n",
    "# Keep selected columns only\n",
    "my_cols = low_cardinality_cols + numerical_cols\n",
    "X_train = X_train_full[my_cols].copy()\n",
    "X_valid = X_valid_full[my_cols].copy()"
   ]
  },
  {
   "cell_type": "code",
   "execution_count": 84,
   "id": "0b68f475-a36c-4dd1-a722-472515b3cf57",
   "metadata": {},
   "outputs": [
    {
     "data": {
      "text/html": [
       "<div>\n",
       "<style scoped>\n",
       "    .dataframe tbody tr th:only-of-type {\n",
       "        vertical-align: middle;\n",
       "    }\n",
       "\n",
       "    .dataframe tbody tr th {\n",
       "        vertical-align: top;\n",
       "    }\n",
       "\n",
       "    .dataframe thead th {\n",
       "        text-align: right;\n",
       "    }\n",
       "</style>\n",
       "<table border=\"1\" class=\"dataframe\">\n",
       "  <thead>\n",
       "    <tr style=\"text-align: right;\">\n",
       "      <th></th>\n",
       "      <th>Type</th>\n",
       "      <th>Method</th>\n",
       "      <th>Regionname</th>\n",
       "      <th>Rooms</th>\n",
       "      <th>Distance</th>\n",
       "      <th>Postcode</th>\n",
       "      <th>Bedroom2</th>\n",
       "      <th>Bathroom</th>\n",
       "      <th>Landsize</th>\n",
       "      <th>Lattitude</th>\n",
       "      <th>Longtitude</th>\n",
       "      <th>Propertycount</th>\n",
       "    </tr>\n",
       "  </thead>\n",
       "  <tbody>\n",
       "    <tr>\n",
       "      <th>12167</th>\n",
       "      <td>u</td>\n",
       "      <td>S</td>\n",
       "      <td>Southern Metropolitan</td>\n",
       "      <td>1</td>\n",
       "      <td>5.00</td>\n",
       "      <td>3,182.00</td>\n",
       "      <td>1.00</td>\n",
       "      <td>1.00</td>\n",
       "      <td>0.00</td>\n",
       "      <td>-37.86</td>\n",
       "      <td>144.99</td>\n",
       "      <td>13,240.00</td>\n",
       "    </tr>\n",
       "    <tr>\n",
       "      <th>6524</th>\n",
       "      <td>h</td>\n",
       "      <td>SA</td>\n",
       "      <td>Western Metropolitan</td>\n",
       "      <td>2</td>\n",
       "      <td>8.00</td>\n",
       "      <td>3,016.00</td>\n",
       "      <td>2.00</td>\n",
       "      <td>2.00</td>\n",
       "      <td>193.00</td>\n",
       "      <td>-37.86</td>\n",
       "      <td>144.90</td>\n",
       "      <td>6,380.00</td>\n",
       "    </tr>\n",
       "    <tr>\n",
       "      <th>8413</th>\n",
       "      <td>h</td>\n",
       "      <td>S</td>\n",
       "      <td>Western Metropolitan</td>\n",
       "      <td>3</td>\n",
       "      <td>12.60</td>\n",
       "      <td>3,020.00</td>\n",
       "      <td>3.00</td>\n",
       "      <td>1.00</td>\n",
       "      <td>555.00</td>\n",
       "      <td>-37.80</td>\n",
       "      <td>144.82</td>\n",
       "      <td>3,755.00</td>\n",
       "    </tr>\n",
       "    <tr>\n",
       "      <th>2919</th>\n",
       "      <td>u</td>\n",
       "      <td>SP</td>\n",
       "      <td>Northern Metropolitan</td>\n",
       "      <td>3</td>\n",
       "      <td>13.00</td>\n",
       "      <td>3,046.00</td>\n",
       "      <td>3.00</td>\n",
       "      <td>1.00</td>\n",
       "      <td>265.00</td>\n",
       "      <td>-37.71</td>\n",
       "      <td>144.92</td>\n",
       "      <td>8,870.00</td>\n",
       "    </tr>\n",
       "    <tr>\n",
       "      <th>6043</th>\n",
       "      <td>h</td>\n",
       "      <td>S</td>\n",
       "      <td>Western Metropolitan</td>\n",
       "      <td>3</td>\n",
       "      <td>13.30</td>\n",
       "      <td>3,020.00</td>\n",
       "      <td>3.00</td>\n",
       "      <td>1.00</td>\n",
       "      <td>673.00</td>\n",
       "      <td>-37.76</td>\n",
       "      <td>144.83</td>\n",
       "      <td>4,217.00</td>\n",
       "    </tr>\n",
       "  </tbody>\n",
       "</table>\n",
       "</div>"
      ],
      "text/plain": [
       "      Type Method             Regionname  Rooms  Distance  Postcode  Bedroom2  \\\n",
       "12167    u      S  Southern Metropolitan      1      5.00  3,182.00      1.00   \n",
       "6524     h     SA   Western Metropolitan      2      8.00  3,016.00      2.00   \n",
       "8413     h      S   Western Metropolitan      3     12.60  3,020.00      3.00   \n",
       "2919     u     SP  Northern Metropolitan      3     13.00  3,046.00      3.00   \n",
       "6043     h      S   Western Metropolitan      3     13.30  3,020.00      3.00   \n",
       "\n",
       "       Bathroom  Landsize  Lattitude  Longtitude  Propertycount  \n",
       "12167      1.00      0.00     -37.86      144.99      13,240.00  \n",
       "6524       2.00    193.00     -37.86      144.90       6,380.00  \n",
       "8413       1.00    555.00     -37.80      144.82       3,755.00  \n",
       "2919       1.00    265.00     -37.71      144.92       8,870.00  \n",
       "6043       1.00    673.00     -37.76      144.83       4,217.00  "
      ]
     },
     "execution_count": 84,
     "metadata": {},
     "output_type": "execute_result"
    }
   ],
   "source": [
    "X_train.head()"
   ]
  },
  {
   "cell_type": "code",
   "execution_count": 125,
   "id": "8a17a3ae-2f1d-4c32-8381-44635d4e3dfc",
   "metadata": {},
   "outputs": [
    {
     "name": "stdout",
     "output_type": "stream",
     "text": [
      "Categorical variables:\n",
      "['Type', 'Method', 'Regionname']\n"
     ]
    }
   ],
   "source": [
    "# Get list of categorical variables\n",
    "s = (X_train.dtypes == 'object')\n",
    "object_cols = list(s[s].index)\n",
    "\n",
    "print(\"Categorical variables:\")\n",
    "print(object_cols)"
   ]
  },
  {
   "cell_type": "markdown",
   "id": "8bbad266-aa62-4426-84f1-521e4f8a619d",
   "metadata": {},
   "source": [
    "### Define Function to Measure Quality of Each Approach\n",
    "We define a function score_dataset() to compare different approaches to dealing with missing values. This function reports the mean absolute error (MAE) from a random forest model."
   ]
  },
  {
   "cell_type": "code",
   "execution_count": 126,
   "id": "dd53664b-dfa0-4df9-8b04-0ee9ee8edc87",
   "metadata": {},
   "outputs": [],
   "source": [
    "from sklearn.ensemble import RandomForestRegressor\n",
    "from sklearn.metrics import mean_absolute_error\n",
    "\n",
    "# Function for comparing different approaches\n",
    "def score_dataset(X_train, X_valid, y_train, y_valid):\n",
    "    model = RandomForestRegressor(n_estimators = 100, random_state = 0)\n",
    "    model.fit(X_train, y_train)\n",
    "    preds = model.predict(X_valid)\n",
    "    return mean_absolute_error(y_valid, preds)"
   ]
  },
  {
   "cell_type": "markdown",
   "id": "a12c85c2-e5c6-4fcf-bea0-e4d2462a9cd6",
   "metadata": {},
   "source": [
    "### 1-) Score from Approach 1 (Drop Categorical Variables)\n",
    "The easiest approach to dealing with categorical variables is to simply remove them from the dataset. This approach will only work well if the columns did not contain useful information."
   ]
  },
  {
   "cell_type": "code",
   "execution_count": 95,
   "id": "c70f22ab-e117-4a27-af83-4a6fd622c015",
   "metadata": {},
   "outputs": [],
   "source": [
    "drop_X_train = X_train.select_dtypes(exclude = ['object'])\n",
    "drop_X_valid = X_valid.select_dtypes(exclude = ['object'])"
   ]
  },
  {
   "cell_type": "code",
   "execution_count": 96,
   "id": "490b0cee-af93-46ac-85d4-ce16c36d5584",
   "metadata": {},
   "outputs": [
    {
     "name": "stdout",
     "output_type": "stream",
     "text": [
      "MAE from approach 1 (Drop categorical variables):\n",
      "175,703.48\n"
     ]
    }
   ],
   "source": [
    "print(\"MAE from approach 1 (Drop categorical variables):\")\n",
    "mae = score_dataset(drop_X_train, drop_X_valid, y_train, y_valid)\n",
    "formatted_mae = f\"{mae:,.2f}\"\n",
    "print(formatted_mae)"
   ]
  },
  {
   "cell_type": "markdown",
   "id": "7e19daa1-8b28-4057-8c73-0e5ecac24326",
   "metadata": {},
   "source": [
    "### 2-) Score from Approach 2 (Ordinal Encoding)\n",
    "Ordinal encoding assigns each unique value to a different integer. Scikit-learn has a OrdinalEncoder class that can be used to get ordinal encodings. We loop over the categorical variables and apply the ordinal encoder separately to each column."
   ]
  },
  {
   "cell_type": "code",
   "execution_count": 131,
   "id": "35c1e903-738a-4e0b-b466-0dbdde75c6e8",
   "metadata": {},
   "outputs": [],
   "source": [
    "from sklearn.preprocessing import OrdinalEncoder\n",
    "\n",
    "# Make copy to avoid changing original data\n",
    "label_X_train = X_train.copy()\n",
    "label_X_valid = X_valid.copy()\n",
    "# Apply ordinal encoder to each column with categorical data\n",
    "ordinal_encoder = OrdinalEncoder()\n",
    "label_X_train[object_cols] = ordinal_encoder.fit_transform(X_train[object_cols])\n",
    "label_X_valid[object_cols] = ordinal_encoder.transform(X_valid[object_cols])"
   ]
  },
  {
   "cell_type": "code",
   "execution_count": 134,
   "id": "3f7f043f-fd50-4c78-843e-fcba83aabdf1",
   "metadata": {},
   "outputs": [
    {
     "data": {
      "text/html": [
       "<div>\n",
       "<style scoped>\n",
       "    .dataframe tbody tr th:only-of-type {\n",
       "        vertical-align: middle;\n",
       "    }\n",
       "\n",
       "    .dataframe tbody tr th {\n",
       "        vertical-align: top;\n",
       "    }\n",
       "\n",
       "    .dataframe thead th {\n",
       "        text-align: right;\n",
       "    }\n",
       "</style>\n",
       "<table border=\"1\" class=\"dataframe\">\n",
       "  <thead>\n",
       "    <tr style=\"text-align: right;\">\n",
       "      <th></th>\n",
       "      <th>Type</th>\n",
       "      <th>Method</th>\n",
       "      <th>Regionname</th>\n",
       "    </tr>\n",
       "  </thead>\n",
       "  <tbody>\n",
       "    <tr>\n",
       "      <th>12167</th>\n",
       "      <td>2.00</td>\n",
       "      <td>1.00</td>\n",
       "      <td>5.00</td>\n",
       "    </tr>\n",
       "    <tr>\n",
       "      <th>6524</th>\n",
       "      <td>0.00</td>\n",
       "      <td>2.00</td>\n",
       "      <td>6.00</td>\n",
       "    </tr>\n",
       "    <tr>\n",
       "      <th>8413</th>\n",
       "      <td>0.00</td>\n",
       "      <td>1.00</td>\n",
       "      <td>6.00</td>\n",
       "    </tr>\n",
       "    <tr>\n",
       "      <th>2919</th>\n",
       "      <td>2.00</td>\n",
       "      <td>3.00</td>\n",
       "      <td>2.00</td>\n",
       "    </tr>\n",
       "    <tr>\n",
       "      <th>6043</th>\n",
       "      <td>0.00</td>\n",
       "      <td>1.00</td>\n",
       "      <td>6.00</td>\n",
       "    </tr>\n",
       "  </tbody>\n",
       "</table>\n",
       "</div>"
      ],
      "text/plain": [
       "       Type  Method  Regionname\n",
       "12167  2.00    1.00        5.00\n",
       "6524   0.00    2.00        6.00\n",
       "8413   0.00    1.00        6.00\n",
       "2919   2.00    3.00        2.00\n",
       "6043   0.00    1.00        6.00"
      ]
     },
     "execution_count": 134,
     "metadata": {},
     "output_type": "execute_result"
    }
   ],
   "source": [
    "label_X_train[object_cols].head()"
   ]
  },
  {
   "cell_type": "code",
   "execution_count": 107,
   "id": "2fde77b9-ffa0-4f16-8748-8f520f2c9e44",
   "metadata": {},
   "outputs": [
    {
     "name": "stdout",
     "output_type": "stream",
     "text": [
      "MAE from approach 2 (Ordinal Encoding):\n",
      "165,936.41\n"
     ]
    }
   ],
   "source": [
    "print(\"MAE from approach 2 (Ordinal Encoding):\")\n",
    "mae = score_dataset(label_X_train, label_X_valid, y_train, y_valid)\n",
    "formatted_mae = f\"{mae:,.2f}\"\n",
    "print(formatted_mae)"
   ]
  },
  {
   "cell_type": "markdown",
   "id": "30a5b0a3-19e9-4119-a0fd-daffc50dea9b",
   "metadata": {},
   "source": [
    "### 3-) One-Hot Encoding"
   ]
  },
  {
   "cell_type": "markdown",
   "id": "794ba31f-1f36-4dcc-9299-5d3636516f66",
   "metadata": {},
   "source": [
    "One-hot encoding creates new columns indicating the presence (or absence) of each possible value in the original data.\n",
    "\n",
    "One-hot encoding generally does not perform well if the categorical variable takes on a large number of values (i.e., you generally won't use it for variables taking more than 15 different values).\n",
    "\n",
    "We use the OneHotEncoder class from scikit-learn to get one-hot encodings. There are a number of parameters that can be used to customize its behavior.\n",
    "\n",
    "We set handle_unknown='ignore' to avoid errors when the validation data contains classes that aren't represented in the training data, and setting sparse=False ensures that the encoded columns are returned as a numpy array (instead of a sparse matrix)."
   ]
  },
  {
   "cell_type": "code",
   "execution_count": 139,
   "id": "f7e0b15d-5025-42df-a7c7-1db8c9523af0",
   "metadata": {},
   "outputs": [
    {
     "ename": "TypeError",
     "evalue": "OneHotEncoder.__init__() got an unexpected keyword argument 'sparse'",
     "output_type": "error",
     "traceback": [
      "\u001b[0;31m---------------------------------------------------------------------------\u001b[0m",
      "\u001b[0;31mTypeError\u001b[0m                                 Traceback (most recent call last)",
      "Cell \u001b[0;32mIn[139], line 4\u001b[0m\n\u001b[1;32m      1\u001b[0m \u001b[38;5;28;01mfrom\u001b[39;00m \u001b[38;5;21;01msklearn\u001b[39;00m\u001b[38;5;21;01m.\u001b[39;00m\u001b[38;5;21;01mpreprocessing\u001b[39;00m \u001b[38;5;28;01mimport\u001b[39;00m OneHotEncoder\n\u001b[1;32m      3\u001b[0m \u001b[38;5;66;03m# Apply one-hot encoder to each column with categorical data\u001b[39;00m\n\u001b[0;32m----> 4\u001b[0m OH_encoder \u001b[38;5;241m=\u001b[39m \u001b[43mOneHotEncoder\u001b[49m\u001b[43m(\u001b[49m\u001b[43mhandle_unknown\u001b[49m\u001b[43m \u001b[49m\u001b[38;5;241;43m=\u001b[39;49m\u001b[43m \u001b[49m\u001b[38;5;124;43m'\u001b[39;49m\u001b[38;5;124;43mignore\u001b[39;49m\u001b[38;5;124;43m'\u001b[39;49m\u001b[43m,\u001b[49m\u001b[43m \u001b[49m\u001b[43msparse\u001b[49m\u001b[43m \u001b[49m\u001b[38;5;241;43m=\u001b[39;49m\u001b[43m \u001b[49m\u001b[38;5;28;43;01mFalse\u001b[39;49;00m\u001b[43m)\u001b[49m\n\u001b[1;32m      5\u001b[0m OH_cols_train \u001b[38;5;241m=\u001b[39m pd\u001b[38;5;241m.\u001b[39mDataFrame(OH_encoder\u001b[38;5;241m.\u001b[39mfit_transform(X_train[object_cols]))\n\u001b[1;32m      6\u001b[0m OH_cols_valid \u001b[38;5;241m=\u001b[39m pd\u001b[38;5;241m.\u001b[39mDataFrame(OH_encoder\u001b[38;5;241m.\u001b[39mtransform(X_valid[object_cols]))\n",
      "\u001b[0;31mTypeError\u001b[0m: OneHotEncoder.__init__() got an unexpected keyword argument 'sparse'"
     ]
    }
   ],
   "source": [
    "from sklearn.preprocessing import OneHotEncoder\n",
    "\n",
    "# Apply one-hot encoder to each column with categorical data\n",
    "OH_encoder = OneHotEncoder(handle_unknown = 'ignore', sparse = False)\n",
    "OH_cols_train = pd.DataFrame(OH_encoder.fit_transform(X_train[object_cols]))\n",
    "OH_cols_valid = pd.DataFrame(OH_encoder.transform(X_valid[object_cols]))\n",
    "\n",
    "# One-hot encoding removed index; put it back\n",
    "OH_cols_train.index = X_train.index\n",
    "OH_cols_valid.index = X_valid.index\n",
    "\n",
    "# Remove categorical columns (will replace with one-hot encoding)\n",
    "num_X_train = X_train.drop(object_cols, axis=1)\n",
    "num_X_valid = X_valid.drop(object_cols, axis=1)\n",
    "\n",
    "# Add one-hot encoded columns to numerical features\n",
    "OH_X_train = pd.concat([num_X_train, OH_cols_train], axis = 1)\n",
    "OH_X_valid = pd.concat([num_X_valid, OH_cols_valid], axis = 1)\n",
    "\n",
    "# Ensure all columns have string type\n",
    "OH_X_train.columns = OH_X_train.columns.astype(str)\n",
    "OH_X_valid.columns = OH_X_valid.columns.astype(str)"
   ]
  },
  {
   "cell_type": "code",
   "execution_count": null,
   "id": "f514c818-d88d-4f22-b8aa-f616b9ba0219",
   "metadata": {},
   "outputs": [],
   "source": []
  }
 ],
 "metadata": {
  "kernelspec": {
   "display_name": "Python 3 (ipykernel)",
   "language": "python",
   "name": "python3"
  },
  "language_info": {
   "codemirror_mode": {
    "name": "ipython",
    "version": 3
   },
   "file_extension": ".py",
   "mimetype": "text/x-python",
   "name": "python",
   "nbconvert_exporter": "python",
   "pygments_lexer": "ipython3",
   "version": "3.12.3"
  }
 },
 "nbformat": 4,
 "nbformat_minor": 5
}
