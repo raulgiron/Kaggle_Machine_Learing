{
 "cells": [
  {
   "cell_type": "markdown",
   "id": "7664352b-f40b-434f-b8f8-cf4e0da961ca",
   "metadata": {},
   "source": [
    "# INTRO TO MACHINE LEARNING"
   ]
  },
  {
   "cell_type": "code",
   "execution_count": 1,
   "id": "50be5cdb-4e81-452d-b01f-2d0e8b1f7c3a",
   "metadata": {},
   "outputs": [],
   "source": [
    "import pandas as pd\n",
    "import sys"
   ]
  },
  {
   "cell_type": "code",
   "execution_count": 2,
   "id": "b62848e6-fa8a-4dd9-903a-2af4aa0b5514",
   "metadata": {},
   "outputs": [],
   "source": [
    "def format_with_commas(x):\n",
    "    return '{:,.2f}'.format(x)\n",
    "\n",
    "pd.options.display.float_format = format_with_commas"
   ]
  },
  {
   "cell_type": "code",
   "execution_count": 3,
   "id": "10c3040c-6302-4514-919d-aeaa220242fc",
   "metadata": {},
   "outputs": [],
   "source": [
    "import platform\n",
    "\n",
    "# Verificar el sistema operativo\n",
    "if platform.system() == \"Windows\":\n",
    "    melbourne_file_path = r\"D:\\kaggle\\machine_learning\\data\\melb_data.csv\"\n",
    "elif platform.system() == \"Darwin\" or platform.system() == \"Linux\":\n",
    "    melbourne_file_path = \"/Volumes/Memory/kaggle/machine_learning/data/melb_data.csv\"\n",
    "else:\n",
    "    # Si el sistema operativo no es Windows, macOS o Linux, maneja el caso aquí\n",
    "    print(\"Sistema operativo no compatible\")"
   ]
  },
  {
   "cell_type": "code",
   "execution_count": 4,
   "id": "c2b4dab9-8c2d-46fc-a90b-c72141cfc6ff",
   "metadata": {},
   "outputs": [],
   "source": [
    "melbourne_data = pd.read_csv(melbourne_file_path)"
   ]
  },
  {
   "cell_type": "code",
   "execution_count": 5,
   "id": "e377679a-9bbc-44b0-aeb1-8d0b19724570",
   "metadata": {},
   "outputs": [
    {
     "data": {
      "text/html": [
       "<div>\n",
       "<style scoped>\n",
       "    .dataframe tbody tr th:only-of-type {\n",
       "        vertical-align: middle;\n",
       "    }\n",
       "\n",
       "    .dataframe tbody tr th {\n",
       "        vertical-align: top;\n",
       "    }\n",
       "\n",
       "    .dataframe thead th {\n",
       "        text-align: right;\n",
       "    }\n",
       "</style>\n",
       "<table border=\"1\" class=\"dataframe\">\n",
       "  <thead>\n",
       "    <tr style=\"text-align: right;\">\n",
       "      <th></th>\n",
       "      <th>Rooms</th>\n",
       "      <th>Price</th>\n",
       "      <th>Distance</th>\n",
       "      <th>Postcode</th>\n",
       "      <th>Bedroom2</th>\n",
       "      <th>Bathroom</th>\n",
       "      <th>Car</th>\n",
       "      <th>Landsize</th>\n",
       "      <th>BuildingArea</th>\n",
       "      <th>YearBuilt</th>\n",
       "      <th>Lattitude</th>\n",
       "      <th>Longtitude</th>\n",
       "      <th>Propertycount</th>\n",
       "    </tr>\n",
       "  </thead>\n",
       "  <tbody>\n",
       "    <tr>\n",
       "      <th>count</th>\n",
       "      <td>13,580.00</td>\n",
       "      <td>13,580.00</td>\n",
       "      <td>13,580.00</td>\n",
       "      <td>13,580.00</td>\n",
       "      <td>13,580.00</td>\n",
       "      <td>13,580.00</td>\n",
       "      <td>13,518.00</td>\n",
       "      <td>13,580.00</td>\n",
       "      <td>7,130.00</td>\n",
       "      <td>8,205.00</td>\n",
       "      <td>13,580.00</td>\n",
       "      <td>13,580.00</td>\n",
       "      <td>13,580.00</td>\n",
       "    </tr>\n",
       "    <tr>\n",
       "      <th>mean</th>\n",
       "      <td>2.94</td>\n",
       "      <td>1,075,684.08</td>\n",
       "      <td>10.14</td>\n",
       "      <td>3,105.30</td>\n",
       "      <td>2.91</td>\n",
       "      <td>1.53</td>\n",
       "      <td>1.61</td>\n",
       "      <td>558.42</td>\n",
       "      <td>151.97</td>\n",
       "      <td>1,964.68</td>\n",
       "      <td>-37.81</td>\n",
       "      <td>145.00</td>\n",
       "      <td>7,454.42</td>\n",
       "    </tr>\n",
       "    <tr>\n",
       "      <th>std</th>\n",
       "      <td>0.96</td>\n",
       "      <td>639,310.72</td>\n",
       "      <td>5.87</td>\n",
       "      <td>90.68</td>\n",
       "      <td>0.97</td>\n",
       "      <td>0.69</td>\n",
       "      <td>0.96</td>\n",
       "      <td>3,990.67</td>\n",
       "      <td>541.01</td>\n",
       "      <td>37.27</td>\n",
       "      <td>0.08</td>\n",
       "      <td>0.10</td>\n",
       "      <td>4,378.58</td>\n",
       "    </tr>\n",
       "    <tr>\n",
       "      <th>min</th>\n",
       "      <td>1.00</td>\n",
       "      <td>85,000.00</td>\n",
       "      <td>0.00</td>\n",
       "      <td>3,000.00</td>\n",
       "      <td>0.00</td>\n",
       "      <td>0.00</td>\n",
       "      <td>0.00</td>\n",
       "      <td>0.00</td>\n",
       "      <td>0.00</td>\n",
       "      <td>1,196.00</td>\n",
       "      <td>-38.18</td>\n",
       "      <td>144.43</td>\n",
       "      <td>249.00</td>\n",
       "    </tr>\n",
       "    <tr>\n",
       "      <th>25%</th>\n",
       "      <td>2.00</td>\n",
       "      <td>650,000.00</td>\n",
       "      <td>6.10</td>\n",
       "      <td>3,044.00</td>\n",
       "      <td>2.00</td>\n",
       "      <td>1.00</td>\n",
       "      <td>1.00</td>\n",
       "      <td>177.00</td>\n",
       "      <td>93.00</td>\n",
       "      <td>1,940.00</td>\n",
       "      <td>-37.86</td>\n",
       "      <td>144.93</td>\n",
       "      <td>4,380.00</td>\n",
       "    </tr>\n",
       "    <tr>\n",
       "      <th>50%</th>\n",
       "      <td>3.00</td>\n",
       "      <td>903,000.00</td>\n",
       "      <td>9.20</td>\n",
       "      <td>3,084.00</td>\n",
       "      <td>3.00</td>\n",
       "      <td>1.00</td>\n",
       "      <td>2.00</td>\n",
       "      <td>440.00</td>\n",
       "      <td>126.00</td>\n",
       "      <td>1,970.00</td>\n",
       "      <td>-37.80</td>\n",
       "      <td>145.00</td>\n",
       "      <td>6,555.00</td>\n",
       "    </tr>\n",
       "    <tr>\n",
       "      <th>75%</th>\n",
       "      <td>3.00</td>\n",
       "      <td>1,330,000.00</td>\n",
       "      <td>13.00</td>\n",
       "      <td>3,148.00</td>\n",
       "      <td>3.00</td>\n",
       "      <td>2.00</td>\n",
       "      <td>2.00</td>\n",
       "      <td>651.00</td>\n",
       "      <td>174.00</td>\n",
       "      <td>1,999.00</td>\n",
       "      <td>-37.76</td>\n",
       "      <td>145.06</td>\n",
       "      <td>10,331.00</td>\n",
       "    </tr>\n",
       "    <tr>\n",
       "      <th>max</th>\n",
       "      <td>10.00</td>\n",
       "      <td>9,000,000.00</td>\n",
       "      <td>48.10</td>\n",
       "      <td>3,977.00</td>\n",
       "      <td>20.00</td>\n",
       "      <td>8.00</td>\n",
       "      <td>10.00</td>\n",
       "      <td>433,014.00</td>\n",
       "      <td>44,515.00</td>\n",
       "      <td>2,018.00</td>\n",
       "      <td>-37.41</td>\n",
       "      <td>145.53</td>\n",
       "      <td>21,650.00</td>\n",
       "    </tr>\n",
       "  </tbody>\n",
       "</table>\n",
       "</div>"
      ],
      "text/plain": [
       "          Rooms        Price  Distance  Postcode  Bedroom2  Bathroom  \\\n",
       "count 13,580.00    13,580.00 13,580.00 13,580.00 13,580.00 13,580.00   \n",
       "mean       2.94 1,075,684.08     10.14  3,105.30      2.91      1.53   \n",
       "std        0.96   639,310.72      5.87     90.68      0.97      0.69   \n",
       "min        1.00    85,000.00      0.00  3,000.00      0.00      0.00   \n",
       "25%        2.00   650,000.00      6.10  3,044.00      2.00      1.00   \n",
       "50%        3.00   903,000.00      9.20  3,084.00      3.00      1.00   \n",
       "75%        3.00 1,330,000.00     13.00  3,148.00      3.00      2.00   \n",
       "max       10.00 9,000,000.00     48.10  3,977.00     20.00      8.00   \n",
       "\n",
       "            Car   Landsize  BuildingArea  YearBuilt  Lattitude  Longtitude  \\\n",
       "count 13,518.00  13,580.00      7,130.00   8,205.00  13,580.00   13,580.00   \n",
       "mean       1.61     558.42        151.97   1,964.68     -37.81      145.00   \n",
       "std        0.96   3,990.67        541.01      37.27       0.08        0.10   \n",
       "min        0.00       0.00          0.00   1,196.00     -38.18      144.43   \n",
       "25%        1.00     177.00         93.00   1,940.00     -37.86      144.93   \n",
       "50%        2.00     440.00        126.00   1,970.00     -37.80      145.00   \n",
       "75%        2.00     651.00        174.00   1,999.00     -37.76      145.06   \n",
       "max       10.00 433,014.00     44,515.00   2,018.00     -37.41      145.53   \n",
       "\n",
       "       Propertycount  \n",
       "count      13,580.00  \n",
       "mean        7,454.42  \n",
       "std         4,378.58  \n",
       "min           249.00  \n",
       "25%         4,380.00  \n",
       "50%         6,555.00  \n",
       "75%        10,331.00  \n",
       "max        21,650.00  "
      ]
     },
     "execution_count": 5,
     "metadata": {},
     "output_type": "execute_result"
    }
   ],
   "source": [
    "melbourne_data.describe()"
   ]
  },
  {
   "cell_type": "markdown",
   "id": "32a07926-12bc-48f9-b5f8-328d0e3aeb98",
   "metadata": {},
   "source": [
    "### Print the list of columns in the dataset"
   ]
  },
  {
   "cell_type": "code",
   "execution_count": 6,
   "id": "0849d81b-1bc7-4d2a-b397-433e362d013e",
   "metadata": {},
   "outputs": [
    {
     "data": {
      "text/plain": [
       "Index(['Suburb', 'Address', 'Rooms', 'Type', 'Price', 'Method', 'SellerG',\n",
       "       'Date', 'Distance', 'Postcode', 'Bedroom2', 'Bathroom', 'Car',\n",
       "       'Landsize', 'BuildingArea', 'YearBuilt', 'CouncilArea', 'Lattitude',\n",
       "       'Longtitude', 'Regionname', 'Propertycount'],\n",
       "      dtype='object')"
      ]
     },
     "execution_count": 6,
     "metadata": {},
     "output_type": "execute_result"
    }
   ],
   "source": [
    "melbourne_data.columns"
   ]
  },
  {
   "cell_type": "code",
   "execution_count": 7,
   "id": "2a9d1c2f-2196-4e9b-98df-e4a5d053e12e",
   "metadata": {},
   "outputs": [],
   "source": [
    "melbourne_data = melbourne_data.dropna(axis=0)"
   ]
  },
  {
   "cell_type": "code",
   "execution_count": 8,
   "id": "e4e6c1ac-db2b-40e9-b7fc-dace65a3ce6b",
   "metadata": {},
   "outputs": [
    {
     "data": {
      "text/html": [
       "<div>\n",
       "<style scoped>\n",
       "    .dataframe tbody tr th:only-of-type {\n",
       "        vertical-align: middle;\n",
       "    }\n",
       "\n",
       "    .dataframe tbody tr th {\n",
       "        vertical-align: top;\n",
       "    }\n",
       "\n",
       "    .dataframe thead th {\n",
       "        text-align: right;\n",
       "    }\n",
       "</style>\n",
       "<table border=\"1\" class=\"dataframe\">\n",
       "  <thead>\n",
       "    <tr style=\"text-align: right;\">\n",
       "      <th></th>\n",
       "      <th>Rooms</th>\n",
       "      <th>Price</th>\n",
       "      <th>Distance</th>\n",
       "      <th>Postcode</th>\n",
       "      <th>Bedroom2</th>\n",
       "      <th>Bathroom</th>\n",
       "      <th>Car</th>\n",
       "      <th>Landsize</th>\n",
       "      <th>BuildingArea</th>\n",
       "      <th>YearBuilt</th>\n",
       "      <th>Lattitude</th>\n",
       "      <th>Longtitude</th>\n",
       "      <th>Propertycount</th>\n",
       "    </tr>\n",
       "  </thead>\n",
       "  <tbody>\n",
       "    <tr>\n",
       "      <th>count</th>\n",
       "      <td>6,196.00</td>\n",
       "      <td>6,196.00</td>\n",
       "      <td>6,196.00</td>\n",
       "      <td>6,196.00</td>\n",
       "      <td>6,196.00</td>\n",
       "      <td>6,196.00</td>\n",
       "      <td>6,196.00</td>\n",
       "      <td>6,196.00</td>\n",
       "      <td>6,196.00</td>\n",
       "      <td>6,196.00</td>\n",
       "      <td>6,196.00</td>\n",
       "      <td>6,196.00</td>\n",
       "      <td>6,196.00</td>\n",
       "    </tr>\n",
       "    <tr>\n",
       "      <th>mean</th>\n",
       "      <td>2.93</td>\n",
       "      <td>1,068,828.20</td>\n",
       "      <td>9.75</td>\n",
       "      <td>3,101.95</td>\n",
       "      <td>2.90</td>\n",
       "      <td>1.58</td>\n",
       "      <td>1.57</td>\n",
       "      <td>471.01</td>\n",
       "      <td>141.57</td>\n",
       "      <td>1,964.08</td>\n",
       "      <td>-37.81</td>\n",
       "      <td>144.99</td>\n",
       "      <td>7,435.49</td>\n",
       "    </tr>\n",
       "    <tr>\n",
       "      <th>std</th>\n",
       "      <td>0.97</td>\n",
       "      <td>675,156.43</td>\n",
       "      <td>5.61</td>\n",
       "      <td>86.42</td>\n",
       "      <td>0.97</td>\n",
       "      <td>0.71</td>\n",
       "      <td>0.93</td>\n",
       "      <td>897.45</td>\n",
       "      <td>90.83</td>\n",
       "      <td>38.11</td>\n",
       "      <td>0.08</td>\n",
       "      <td>0.10</td>\n",
       "      <td>4,337.70</td>\n",
       "    </tr>\n",
       "    <tr>\n",
       "      <th>min</th>\n",
       "      <td>1.00</td>\n",
       "      <td>131,000.00</td>\n",
       "      <td>0.00</td>\n",
       "      <td>3,000.00</td>\n",
       "      <td>0.00</td>\n",
       "      <td>1.00</td>\n",
       "      <td>0.00</td>\n",
       "      <td>0.00</td>\n",
       "      <td>0.00</td>\n",
       "      <td>1,196.00</td>\n",
       "      <td>-38.16</td>\n",
       "      <td>144.54</td>\n",
       "      <td>389.00</td>\n",
       "    </tr>\n",
       "    <tr>\n",
       "      <th>25%</th>\n",
       "      <td>2.00</td>\n",
       "      <td>620,000.00</td>\n",
       "      <td>5.90</td>\n",
       "      <td>3,044.00</td>\n",
       "      <td>2.00</td>\n",
       "      <td>1.00</td>\n",
       "      <td>1.00</td>\n",
       "      <td>152.00</td>\n",
       "      <td>91.00</td>\n",
       "      <td>1,940.00</td>\n",
       "      <td>-37.86</td>\n",
       "      <td>144.93</td>\n",
       "      <td>4,383.75</td>\n",
       "    </tr>\n",
       "    <tr>\n",
       "      <th>50%</th>\n",
       "      <td>3.00</td>\n",
       "      <td>880,000.00</td>\n",
       "      <td>9.00</td>\n",
       "      <td>3,081.00</td>\n",
       "      <td>3.00</td>\n",
       "      <td>1.00</td>\n",
       "      <td>1.00</td>\n",
       "      <td>373.00</td>\n",
       "      <td>124.00</td>\n",
       "      <td>1,970.00</td>\n",
       "      <td>-37.80</td>\n",
       "      <td>145.00</td>\n",
       "      <td>6,567.00</td>\n",
       "    </tr>\n",
       "    <tr>\n",
       "      <th>75%</th>\n",
       "      <td>4.00</td>\n",
       "      <td>1,325,000.00</td>\n",
       "      <td>12.40</td>\n",
       "      <td>3,147.00</td>\n",
       "      <td>3.00</td>\n",
       "      <td>2.00</td>\n",
       "      <td>2.00</td>\n",
       "      <td>628.00</td>\n",
       "      <td>170.00</td>\n",
       "      <td>2,000.00</td>\n",
       "      <td>-37.76</td>\n",
       "      <td>145.05</td>\n",
       "      <td>10,175.00</td>\n",
       "    </tr>\n",
       "    <tr>\n",
       "      <th>max</th>\n",
       "      <td>8.00</td>\n",
       "      <td>9,000,000.00</td>\n",
       "      <td>47.40</td>\n",
       "      <td>3,977.00</td>\n",
       "      <td>9.00</td>\n",
       "      <td>8.00</td>\n",
       "      <td>10.00</td>\n",
       "      <td>37,000.00</td>\n",
       "      <td>3,112.00</td>\n",
       "      <td>2,018.00</td>\n",
       "      <td>-37.46</td>\n",
       "      <td>145.53</td>\n",
       "      <td>21,650.00</td>\n",
       "    </tr>\n",
       "  </tbody>\n",
       "</table>\n",
       "</div>"
      ],
      "text/plain": [
       "         Rooms        Price  Distance  Postcode  Bedroom2  Bathroom      Car  \\\n",
       "count 6,196.00     6,196.00  6,196.00  6,196.00  6,196.00  6,196.00 6,196.00   \n",
       "mean      2.93 1,068,828.20      9.75  3,101.95      2.90      1.58     1.57   \n",
       "std       0.97   675,156.43      5.61     86.42      0.97      0.71     0.93   \n",
       "min       1.00   131,000.00      0.00  3,000.00      0.00      1.00     0.00   \n",
       "25%       2.00   620,000.00      5.90  3,044.00      2.00      1.00     1.00   \n",
       "50%       3.00   880,000.00      9.00  3,081.00      3.00      1.00     1.00   \n",
       "75%       4.00 1,325,000.00     12.40  3,147.00      3.00      2.00     2.00   \n",
       "max       8.00 9,000,000.00     47.40  3,977.00      9.00      8.00    10.00   \n",
       "\n",
       "       Landsize  BuildingArea  YearBuilt  Lattitude  Longtitude  Propertycount  \n",
       "count  6,196.00      6,196.00   6,196.00   6,196.00    6,196.00       6,196.00  \n",
       "mean     471.01        141.57   1,964.08     -37.81      144.99       7,435.49  \n",
       "std      897.45         90.83      38.11       0.08        0.10       4,337.70  \n",
       "min        0.00          0.00   1,196.00     -38.16      144.54         389.00  \n",
       "25%      152.00         91.00   1,940.00     -37.86      144.93       4,383.75  \n",
       "50%      373.00        124.00   1,970.00     -37.80      145.00       6,567.00  \n",
       "75%      628.00        170.00   2,000.00     -37.76      145.05      10,175.00  \n",
       "max   37,000.00      3,112.00   2,018.00     -37.46      145.53      21,650.00  "
      ]
     },
     "execution_count": 8,
     "metadata": {},
     "output_type": "execute_result"
    }
   ],
   "source": [
    "melbourne_data.describe()"
   ]
  },
  {
   "cell_type": "markdown",
   "id": "9e285ff3-0fca-4b74-b59e-e264616f4455",
   "metadata": {},
   "source": [
    "# Selecting The Prediction Target of the Model - By convention, the prediction target is called \" y \""
   ]
  },
  {
   "cell_type": "code",
   "execution_count": 9,
   "id": "2f3436ad-f60e-4517-8309-26de211e04ba",
   "metadata": {},
   "outputs": [],
   "source": [
    "y = melbourne_data.Price"
   ]
  },
  {
   "cell_type": "markdown",
   "id": "3c97ebdf-8101-4437-9e8b-291e7a4747d3",
   "metadata": {},
   "source": [
    "# Choosing the \"Features\" of the Model - By convention, this data is called \" X \""
   ]
  },
  {
   "cell_type": "code",
   "execution_count": 10,
   "id": "07d6dcbf-788e-4205-8cc3-e3092731e9a0",
   "metadata": {},
   "outputs": [],
   "source": [
    "melbourne_features = ['Rooms', 'Bathroom', 'Landsize', 'Lattitude', 'Longtitude']"
   ]
  },
  {
   "cell_type": "code",
   "execution_count": 11,
   "id": "879c7a54-cf78-4532-839f-1a05f9a9bc02",
   "metadata": {},
   "outputs": [],
   "source": [
    "X = melbourne_data[melbourne_features]"
   ]
  },
  {
   "cell_type": "code",
   "execution_count": 12,
   "id": "cf23c515-c5c9-47e7-a159-bc7bc906d0e3",
   "metadata": {},
   "outputs": [
    {
     "data": {
      "text/html": [
       "<div>\n",
       "<style scoped>\n",
       "    .dataframe tbody tr th:only-of-type {\n",
       "        vertical-align: middle;\n",
       "    }\n",
       "\n",
       "    .dataframe tbody tr th {\n",
       "        vertical-align: top;\n",
       "    }\n",
       "\n",
       "    .dataframe thead th {\n",
       "        text-align: right;\n",
       "    }\n",
       "</style>\n",
       "<table border=\"1\" class=\"dataframe\">\n",
       "  <thead>\n",
       "    <tr style=\"text-align: right;\">\n",
       "      <th></th>\n",
       "      <th>Rooms</th>\n",
       "      <th>Bathroom</th>\n",
       "      <th>Landsize</th>\n",
       "      <th>Lattitude</th>\n",
       "      <th>Longtitude</th>\n",
       "    </tr>\n",
       "  </thead>\n",
       "  <tbody>\n",
       "    <tr>\n",
       "      <th>count</th>\n",
       "      <td>6,196.00</td>\n",
       "      <td>6,196.00</td>\n",
       "      <td>6,196.00</td>\n",
       "      <td>6,196.00</td>\n",
       "      <td>6,196.00</td>\n",
       "    </tr>\n",
       "    <tr>\n",
       "      <th>mean</th>\n",
       "      <td>2.93</td>\n",
       "      <td>1.58</td>\n",
       "      <td>471.01</td>\n",
       "      <td>-37.81</td>\n",
       "      <td>144.99</td>\n",
       "    </tr>\n",
       "    <tr>\n",
       "      <th>std</th>\n",
       "      <td>0.97</td>\n",
       "      <td>0.71</td>\n",
       "      <td>897.45</td>\n",
       "      <td>0.08</td>\n",
       "      <td>0.10</td>\n",
       "    </tr>\n",
       "    <tr>\n",
       "      <th>min</th>\n",
       "      <td>1.00</td>\n",
       "      <td>1.00</td>\n",
       "      <td>0.00</td>\n",
       "      <td>-38.16</td>\n",
       "      <td>144.54</td>\n",
       "    </tr>\n",
       "    <tr>\n",
       "      <th>25%</th>\n",
       "      <td>2.00</td>\n",
       "      <td>1.00</td>\n",
       "      <td>152.00</td>\n",
       "      <td>-37.86</td>\n",
       "      <td>144.93</td>\n",
       "    </tr>\n",
       "    <tr>\n",
       "      <th>50%</th>\n",
       "      <td>3.00</td>\n",
       "      <td>1.00</td>\n",
       "      <td>373.00</td>\n",
       "      <td>-37.80</td>\n",
       "      <td>145.00</td>\n",
       "    </tr>\n",
       "    <tr>\n",
       "      <th>75%</th>\n",
       "      <td>4.00</td>\n",
       "      <td>2.00</td>\n",
       "      <td>628.00</td>\n",
       "      <td>-37.76</td>\n",
       "      <td>145.05</td>\n",
       "    </tr>\n",
       "    <tr>\n",
       "      <th>max</th>\n",
       "      <td>8.00</td>\n",
       "      <td>8.00</td>\n",
       "      <td>37,000.00</td>\n",
       "      <td>-37.46</td>\n",
       "      <td>145.53</td>\n",
       "    </tr>\n",
       "  </tbody>\n",
       "</table>\n",
       "</div>"
      ],
      "text/plain": [
       "         Rooms  Bathroom  Landsize  Lattitude  Longtitude\n",
       "count 6,196.00  6,196.00  6,196.00   6,196.00    6,196.00\n",
       "mean      2.93      1.58    471.01     -37.81      144.99\n",
       "std       0.97      0.71    897.45       0.08        0.10\n",
       "min       1.00      1.00      0.00     -38.16      144.54\n",
       "25%       2.00      1.00    152.00     -37.86      144.93\n",
       "50%       3.00      1.00    373.00     -37.80      145.00\n",
       "75%       4.00      2.00    628.00     -37.76      145.05\n",
       "max       8.00      8.00 37,000.00     -37.46      145.53"
      ]
     },
     "execution_count": 12,
     "metadata": {},
     "output_type": "execute_result"
    }
   ],
   "source": [
    "X.describe()"
   ]
  },
  {
   "cell_type": "code",
   "execution_count": 13,
   "id": "8c466a51-6c75-4f2c-9404-8c837f3be43d",
   "metadata": {},
   "outputs": [
    {
     "data": {
      "text/html": [
       "<div>\n",
       "<style scoped>\n",
       "    .dataframe tbody tr th:only-of-type {\n",
       "        vertical-align: middle;\n",
       "    }\n",
       "\n",
       "    .dataframe tbody tr th {\n",
       "        vertical-align: top;\n",
       "    }\n",
       "\n",
       "    .dataframe thead th {\n",
       "        text-align: right;\n",
       "    }\n",
       "</style>\n",
       "<table border=\"1\" class=\"dataframe\">\n",
       "  <thead>\n",
       "    <tr style=\"text-align: right;\">\n",
       "      <th></th>\n",
       "      <th>Rooms</th>\n",
       "      <th>Bathroom</th>\n",
       "      <th>Landsize</th>\n",
       "      <th>Lattitude</th>\n",
       "      <th>Longtitude</th>\n",
       "    </tr>\n",
       "  </thead>\n",
       "  <tbody>\n",
       "    <tr>\n",
       "      <th>1</th>\n",
       "      <td>2</td>\n",
       "      <td>1</td>\n",
       "      <td>156</td>\n",
       "      <td>-37.81</td>\n",
       "      <td>144.99</td>\n",
       "    </tr>\n",
       "    <tr>\n",
       "      <th>2</th>\n",
       "      <td>3</td>\n",
       "      <td>2</td>\n",
       "      <td>134</td>\n",
       "      <td>-37.81</td>\n",
       "      <td>144.99</td>\n",
       "    </tr>\n",
       "    <tr>\n",
       "      <th>4</th>\n",
       "      <td>4</td>\n",
       "      <td>1</td>\n",
       "      <td>120</td>\n",
       "      <td>-37.81</td>\n",
       "      <td>144.99</td>\n",
       "    </tr>\n",
       "    <tr>\n",
       "      <th>6</th>\n",
       "      <td>3</td>\n",
       "      <td>2</td>\n",
       "      <td>245</td>\n",
       "      <td>-37.80</td>\n",
       "      <td>145.00</td>\n",
       "    </tr>\n",
       "    <tr>\n",
       "      <th>7</th>\n",
       "      <td>2</td>\n",
       "      <td>1</td>\n",
       "      <td>256</td>\n",
       "      <td>-37.81</td>\n",
       "      <td>145.00</td>\n",
       "    </tr>\n",
       "  </tbody>\n",
       "</table>\n",
       "</div>"
      ],
      "text/plain": [
       "   Rooms  Bathroom  Landsize  Lattitude  Longtitude\n",
       "1      2         1       156     -37.81      144.99\n",
       "2      3         2       134     -37.81      144.99\n",
       "4      4         1       120     -37.81      144.99\n",
       "6      3         2       245     -37.80      145.00\n",
       "7      2         1       256     -37.81      145.00"
      ]
     },
     "execution_count": 13,
     "metadata": {},
     "output_type": "execute_result"
    }
   ],
   "source": [
    "X.head()"
   ]
  },
  {
   "cell_type": "markdown",
   "id": "735f3707-c338-4805-961b-6f6f06e2a92d",
   "metadata": {},
   "source": [
    "# Decision Tree Regressor Model"
   ]
  },
  {
   "cell_type": "markdown",
   "id": "391a4c3c-c648-427e-9843-e9f93d3858e7",
   "metadata": {},
   "source": [
    "# Building the Model with Scikit-Learn Python Library"
   ]
  },
  {
   "cell_type": "markdown",
   "id": "9610fa52-51a0-4503-88d8-f2b4bf7fbb9e",
   "metadata": {},
   "source": [
    "When coding, this library is written as sklearn\n",
    "\n",
    "### The steps to building and using a model are:\n",
    "\n",
    "Define: What type of model will it be? A decision tree? Some other type of model? Some other parameters of the model type are specified too.\n",
    "\n",
    "Fit: Capture patterns from provided data. This is the heart of modeling.\n",
    "\n",
    "Predict: Just what it sounds like\n",
    "\n",
    "Evaluate: Determine how accurate the model's predictions are."
   ]
  },
  {
   "cell_type": "markdown",
   "id": "cc45a670-3203-47a3-971d-f16d6cd621c2",
   "metadata": {},
   "source": [
    "# Define and Fit the Model"
   ]
  },
  {
   "cell_type": "code",
   "execution_count": 14,
   "id": "a069081c-3b11-4dd4-9f2e-b1e91ebcdb52",
   "metadata": {},
   "outputs": [
    {
     "data": {
      "text/html": [
       "<style>#sk-container-id-1 {color: black;}#sk-container-id-1 pre{padding: 0;}#sk-container-id-1 div.sk-toggleable {background-color: white;}#sk-container-id-1 label.sk-toggleable__label {cursor: pointer;display: block;width: 100%;margin-bottom: 0;padding: 0.3em;box-sizing: border-box;text-align: center;}#sk-container-id-1 label.sk-toggleable__label-arrow:before {content: \"▸\";float: left;margin-right: 0.25em;color: #696969;}#sk-container-id-1 label.sk-toggleable__label-arrow:hover:before {color: black;}#sk-container-id-1 div.sk-estimator:hover label.sk-toggleable__label-arrow:before {color: black;}#sk-container-id-1 div.sk-toggleable__content {max-height: 0;max-width: 0;overflow: hidden;text-align: left;background-color: #f0f8ff;}#sk-container-id-1 div.sk-toggleable__content pre {margin: 0.2em;color: black;border-radius: 0.25em;background-color: #f0f8ff;}#sk-container-id-1 input.sk-toggleable__control:checked~div.sk-toggleable__content {max-height: 200px;max-width: 100%;overflow: auto;}#sk-container-id-1 input.sk-toggleable__control:checked~label.sk-toggleable__label-arrow:before {content: \"▾\";}#sk-container-id-1 div.sk-estimator input.sk-toggleable__control:checked~label.sk-toggleable__label {background-color: #d4ebff;}#sk-container-id-1 div.sk-label input.sk-toggleable__control:checked~label.sk-toggleable__label {background-color: #d4ebff;}#sk-container-id-1 input.sk-hidden--visually {border: 0;clip: rect(1px 1px 1px 1px);clip: rect(1px, 1px, 1px, 1px);height: 1px;margin: -1px;overflow: hidden;padding: 0;position: absolute;width: 1px;}#sk-container-id-1 div.sk-estimator {font-family: monospace;background-color: #f0f8ff;border: 1px dotted black;border-radius: 0.25em;box-sizing: border-box;margin-bottom: 0.5em;}#sk-container-id-1 div.sk-estimator:hover {background-color: #d4ebff;}#sk-container-id-1 div.sk-parallel-item::after {content: \"\";width: 100%;border-bottom: 1px solid gray;flex-grow: 1;}#sk-container-id-1 div.sk-label:hover label.sk-toggleable__label {background-color: #d4ebff;}#sk-container-id-1 div.sk-serial::before {content: \"\";position: absolute;border-left: 1px solid gray;box-sizing: border-box;top: 0;bottom: 0;left: 50%;z-index: 0;}#sk-container-id-1 div.sk-serial {display: flex;flex-direction: column;align-items: center;background-color: white;padding-right: 0.2em;padding-left: 0.2em;position: relative;}#sk-container-id-1 div.sk-item {position: relative;z-index: 1;}#sk-container-id-1 div.sk-parallel {display: flex;align-items: stretch;justify-content: center;background-color: white;position: relative;}#sk-container-id-1 div.sk-item::before, #sk-container-id-1 div.sk-parallel-item::before {content: \"\";position: absolute;border-left: 1px solid gray;box-sizing: border-box;top: 0;bottom: 0;left: 50%;z-index: -1;}#sk-container-id-1 div.sk-parallel-item {display: flex;flex-direction: column;z-index: 1;position: relative;background-color: white;}#sk-container-id-1 div.sk-parallel-item:first-child::after {align-self: flex-end;width: 50%;}#sk-container-id-1 div.sk-parallel-item:last-child::after {align-self: flex-start;width: 50%;}#sk-container-id-1 div.sk-parallel-item:only-child::after {width: 0;}#sk-container-id-1 div.sk-dashed-wrapped {border: 1px dashed gray;margin: 0 0.4em 0.5em 0.4em;box-sizing: border-box;padding-bottom: 0.4em;background-color: white;}#sk-container-id-1 div.sk-label label {font-family: monospace;font-weight: bold;display: inline-block;line-height: 1.2em;}#sk-container-id-1 div.sk-label-container {text-align: center;}#sk-container-id-1 div.sk-container {/* jupyter's `normalize.less` sets `[hidden] { display: none; }` but bootstrap.min.css set `[hidden] { display: none !important; }` so we also need the `!important` here to be able to override the default hidden behavior on the sphinx rendered scikit-learn.org. See: https://github.com/scikit-learn/scikit-learn/issues/21755 */display: inline-block !important;position: relative;}#sk-container-id-1 div.sk-text-repr-fallback {display: none;}</style><div id=\"sk-container-id-1\" class=\"sk-top-container\"><div class=\"sk-text-repr-fallback\"><pre>DecisionTreeRegressor(random_state=1)</pre><b>In a Jupyter environment, please rerun this cell to show the HTML representation or trust the notebook. <br />On GitHub, the HTML representation is unable to render, please try loading this page with nbviewer.org.</b></div><div class=\"sk-container\" hidden><div class=\"sk-item\"><div class=\"sk-estimator sk-toggleable\"><input class=\"sk-toggleable__control sk-hidden--visually\" id=\"sk-estimator-id-1\" type=\"checkbox\" checked><label for=\"sk-estimator-id-1\" class=\"sk-toggleable__label sk-toggleable__label-arrow\">DecisionTreeRegressor</label><div class=\"sk-toggleable__content\"><pre>DecisionTreeRegressor(random_state=1)</pre></div></div></div></div></div>"
      ],
      "text/plain": [
       "DecisionTreeRegressor(random_state=1)"
      ]
     },
     "execution_count": 14,
     "metadata": {},
     "output_type": "execute_result"
    }
   ],
   "source": [
    "from sklearn.tree import DecisionTreeRegressor\n",
    "\n",
    "melbourne_model = DecisionTreeRegressor(random_state=1)\n",
    "\n",
    "melbourne_model.fit(X, y)"
   ]
  },
  {
   "cell_type": "markdown",
   "id": "7be5ed40-a470-4e11-9348-ef0f86284ad4",
   "metadata": {},
   "source": [
    "### Making a Test predictions"
   ]
  },
  {
   "cell_type": "code",
   "execution_count": 15,
   "id": "6d4f802c-71a1-4cc1-8ce7-8014b032af90",
   "metadata": {},
   "outputs": [
    {
     "name": "stdout",
     "output_type": "stream",
     "text": [
      "Making predictions for the following 5 houses:\n",
      "   Rooms  Bathroom  Landsize  Lattitude  Longtitude\n",
      "1      2         1       156     -37.81      144.99\n",
      "2      3         2       134     -37.81      144.99\n",
      "4      4         1       120     -37.81      144.99\n",
      "6      3         2       245     -37.80      145.00\n",
      "7      2         1       256     -37.81      145.00\n",
      "The predictions are\n",
      "[1035000. 1465000. 1600000. 1876000. 1636000.]\n"
     ]
    }
   ],
   "source": [
    "print(\"Making predictions for the following 5 houses:\")\n",
    "print(X.head())\n",
    "print(\"The predictions are\")\n",
    "print(melbourne_model.predict(X.head()))"
   ]
  },
  {
   "cell_type": "markdown",
   "id": "d64fd941-5452-4202-8ca1-9cf3fa52a8dd",
   "metadata": {},
   "source": [
    "### Calculating the Mean Absolute Error MAE for the model"
   ]
  },
  {
   "cell_type": "code",
   "execution_count": 16,
   "id": "e679a9ea-2674-4cef-9433-e4d95301f727",
   "metadata": {},
   "outputs": [
    {
     "name": "stdout",
     "output_type": "stream",
     "text": [
      "1115.7467183128902\n"
     ]
    }
   ],
   "source": [
    "from sklearn.metrics import mean_absolute_error\n",
    "\n",
    "predicted_home_prices = melbourne_model.predict(X)\n",
    "print(mean_absolute_error(y, predicted_home_prices))"
   ]
  },
  {
   "cell_type": "markdown",
   "id": "fe82756c-0773-428d-bef4-2081c94d6cb8",
   "metadata": {},
   "source": [
    "### Split the data into two - one for training the model and another for validating the model MAE"
   ]
  },
  {
   "cell_type": "code",
   "execution_count": 17,
   "id": "9aaf1668-f6e4-4886-a50f-05454e089c00",
   "metadata": {},
   "outputs": [
    {
     "name": "stdout",
     "output_type": "stream",
     "text": [
      "270507.6173875618\n"
     ]
    }
   ],
   "source": [
    "from sklearn.model_selection import train_test_split\n",
    "\n",
    "# Split the data\n",
    "train_X, val_X, train_y, val_y = train_test_split(X, y, random_state = 0)\n",
    "# Define the model\n",
    "melbourne_model = DecisionTreeRegressor()\n",
    "# Fit the model\n",
    "melbourne_model.fit(train_X, train_y)\n",
    "\n",
    "# Get predicted price on validation (val) data\n",
    "val_predictions = melbourne_model.predict(val_X)\n",
    "print(mean_absolute_error(val_y, val_predictions))"
   ]
  },
  {
   "cell_type": "markdown",
   "id": "18996589-9a41-4a24-b2d4-934db492e4ba",
   "metadata": {},
   "source": [
    "# Underfitting and Overfitting"
   ]
  },
  {
   "cell_type": "code",
   "execution_count": 18,
   "id": "583a4af4-8a1b-48ba-aae3-31569e596a97",
   "metadata": {},
   "outputs": [],
   "source": [
    "from sklearn.metrics import mean_absolute_error\n",
    "from sklearn.tree import DecisionTreeRegressor\n",
    "\n",
    "def get_mae(max_leaf_nodes, train_X, val_X, tain_y, val_y):\n",
    "    model = DecisionTreeRegressor(max_leaf_nodes=max_leaf_nodes, random_state=0)\n",
    "    model.fit(train_X, train_y)\n",
    "    preds_val = model.predict(val_X)\n",
    "    mae = mean_absolute_error(val_y, preds_val)\n",
    "    return(mae)\n"
   ]
  },
  {
   "cell_type": "code",
   "execution_count": 19,
   "id": "6f132485-9e8d-47f1-ae3b-fa9ae1415a55",
   "metadata": {},
   "outputs": [],
   "source": [
    "import pandas as pd\n",
    "from sklearn.model_selection import train_test_split\n",
    "\n",
    "\n",
    "melbourne_data = pd.read_csv(melbourne_file_path)\n",
    "\n",
    "filtered_melbourne_data = melbourne_data.dropna(axis=0)\n",
    "\n",
    "melbourne_features = ['Rooms', 'Bathroom', 'Landsize', 'BuildingArea', 'YearBuilt', 'Lattitude', 'Longtitude']\n",
    "y = filtered_melbourne_data.Price\n",
    "X = filtered_melbourne_data[melbourne_features]\n",
    "\n",
    "train_X, val_X, train_y, val_y = train_test_split(X, y, random_state = 0)"
   ]
  },
  {
   "cell_type": "markdown",
   "id": "0eaf190a-ffdc-49ee-bb11-5a22fd0ac73e",
   "metadata": {},
   "source": [
    "### Compare the MAE with differing values of max_leaf_nodes through a for-loop"
   ]
  },
  {
   "cell_type": "code",
   "execution_count": 20,
   "id": "75a18e8b-68ec-472d-b2c4-70612d2e20bd",
   "metadata": {},
   "outputs": [
    {
     "name": "stdout",
     "output_type": "stream",
     "text": [
      "Max leaf nodes: 5 \t\t Mean Absolute Error: 347380\n",
      "Max leaf nodes: 50 \t\t Mean Absolute Error: 258171\n",
      "Max leaf nodes: 500 \t\t Mean Absolute Error: 243495\n",
      "Max leaf nodes: 5000 \t\t Mean Absolute Error: 254983\n"
     ]
    }
   ],
   "source": [
    "max_leaf_nodes_candidates = [5, 50, 500, 5000]\n",
    "mae_values = []\n",
    "for max_leaf_nodes in max_leaf_nodes_candidates:\n",
    "    my_mae = get_mae(max_leaf_nodes, train_X, val_X, train_y, val_y)\n",
    "    mae_values.append(my_mae)\n",
    "    print(\"Max leaf nodes: %d \\t\\t Mean Absolute Error: %d\" %(max_leaf_nodes, my_mae))"
   ]
  },
  {
   "cell_type": "code",
   "execution_count": 21,
   "id": "147f177a-4d04-4e04-a1d1-cac626293cc6",
   "metadata": {},
   "outputs": [
    {
     "data": {
      "text/plain": [
       "2"
      ]
     },
     "execution_count": 21,
     "metadata": {},
     "output_type": "execute_result"
    }
   ],
   "source": [
    "import numpy as np\n",
    "best_mae_index = np.argmin(mae_values)\n",
    "best_mae_index"
   ]
  },
  {
   "cell_type": "code",
   "execution_count": 22,
   "id": "1d1f7ff1-15ca-4626-8fcb-dbdaaa5a86c9",
   "metadata": {},
   "outputs": [
    {
     "data": {
      "text/plain": [
       "500"
      ]
     },
     "execution_count": 22,
     "metadata": {},
     "output_type": "execute_result"
    }
   ],
   "source": [
    "best_tree_size = max_leaf_nodes_candidates[best_mae_index]\n",
    "best_tree_size"
   ]
  },
  {
   "cell_type": "markdown",
   "id": "4c796af7-c88e-4e1b-880d-bc239811d131",
   "metadata": {},
   "source": [
    "# Random Forest Model"
   ]
  },
  {
   "cell_type": "code",
   "execution_count": 23,
   "id": "fb3cfa89-f00e-47e7-aba1-55fcfa000522",
   "metadata": {},
   "outputs": [],
   "source": [
    "import pandas as pd\n",
    "from sklearn.model_selection import train_test_split\n",
    "\n",
    "def format_with_commas(x):\n",
    "    return '{:,.2f}'.format(x)\n",
    "pd.options.display.float_format = format_with_commas\n",
    "\n",
    "melbourne_data = pd.read_csv(melbourne_file_path)\n",
    "\n",
    "filtered_melbourne_data = melbourne_data.dropna(axis=0)\n",
    "\n",
    "melbourne_features = ['Rooms', 'Bathroom', 'Landsize', 'BuildingArea', 'YearBuilt', 'Lattitude', 'Longtitude']\n",
    "y = filtered_melbourne_data.Price\n",
    "X = filtered_melbourne_data[melbourne_features]\n",
    "\n",
    "train_X, val_X, train_y, val_y = train_test_split(X, y, random_state = 0)"
   ]
  },
  {
   "cell_type": "code",
   "execution_count": 24,
   "id": "1a364ffd-13be-4284-bcea-60ae3ec4bff0",
   "metadata": {},
   "outputs": [],
   "source": [
    "from sklearn.ensemble import RandomForestRegressor\n",
    "from sklearn.metrics import mean_absolute_error\n",
    "\n",
    "def get_forest_mae(train_X, val_X, tain_y, val_y):\n",
    "    forest_model = RandomForestRegressor(random_state=1)\n",
    "    forest_model.fit(train_X, train_y)\n",
    "    melb_preds = forest_model.predict(val_X)\n",
    "    forest_mae = mean_absolute_error(val_y, melb_preds)\n",
    "    return(forest_mae)\n",
    "    "
   ]
  },
  {
   "cell_type": "code",
   "execution_count": 25,
   "id": "0e7f8722-4940-4a21-a695-2865dad1b53d",
   "metadata": {},
   "outputs": [
    {
     "name": "stdout",
     "output_type": "stream",
     "text": [
      "191,669.75\n"
     ]
    }
   ],
   "source": [
    "result = get_forest_mae(train_X, val_X, train_y, val_y)\n",
    "result_formatted = format_with_commas(result)\n",
    "print(result_formatted)"
   ]
  },
  {
   "cell_type": "markdown",
   "id": "c8bbcce5-9f14-49c5-86b4-fa4682337559",
   "metadata": {},
   "source": [
    "Intro to Machine Learning Course ends here"
   ]
  },
  {
   "cell_type": "markdown",
   "id": "a4c1cc46-e88e-4c6e-83db-f7e6ec7c0f76",
   "metadata": {},
   "source": [
    "# INTERMEDIATE MACHINE LEARNING"
   ]
  },
  {
   "cell_type": "code",
   "execution_count": 26,
   "id": "56fb45b0-64bf-4d5e-a496-2f497127d42e",
   "metadata": {},
   "outputs": [],
   "source": [
    "import platform\n",
    "\n",
    "# Verificar el sistema operativo\n",
    "if platform.system() == \"Windows\":\n",
    "    melbourne_file_path = r\"D:\\kaggle\\machine_learning\\data\\melb_data.csv\"\n",
    "elif platform.system() == \"Darwin\" or platform.system() == \"Linux\":\n",
    "    melbourne_file_path = \"/Volumes/Memory/kaggle/machine_learning/data/melb_data.csv\"\n",
    "else:\n",
    "    # Si el sistema operativo no es Windows, macOS o Linux, maneja el caso aquí\n",
    "    print(\"Sistema operativo no compatible\")"
   ]
  },
  {
   "cell_type": "markdown",
   "id": "25cde5fa-a9c0-4a88-9968-c2888e12745f",
   "metadata": {},
   "source": [
    "## Dealing with missing values (Three Approaches)\n",
    "Drop Columns with Missing Values, Imputation, An Extension To Imputation"
   ]
  },
  {
   "cell_type": "markdown",
   "id": "1a34b87f-b737-419e-b64a-a98c75eb575b",
   "metadata": {},
   "source": [
    "### 1-) A Simple Option: Drop Columns with Missing Values"
   ]
  },
  {
   "cell_type": "code",
   "execution_count": 27,
   "id": "2a0daf34-bb59-43ea-8834-07fed71ffd99",
   "metadata": {},
   "outputs": [],
   "source": [
    "import pandas as pd;\n",
    "from sklearn.model_selection import train_test_split\n",
    "\n",
    "data = pd.read_csv(melbourne_file_path)\n",
    "y = data.Price\n",
    "\n",
    "# To keep things simple, we'll use only numerical predictors\n",
    "melb_predictors = data.drop(['Price'], axis = 1)\n",
    "X = melb_predictors.select_dtypes(exclude = ['object'])\n",
    "# Divide data into training and validation subsets\n",
    "X_train, X_valid, y_train, y_valid = train_test_split(X, y, train_size = 0.8, test_size = 0.2, random_state = 0)"
   ]
  },
  {
   "cell_type": "code",
   "execution_count": 28,
   "id": "c73dc30d-a38c-498f-a77f-7d632e0ee689",
   "metadata": {},
   "outputs": [
    {
     "name": "stdout",
     "output_type": "stream",
     "text": [
      "(10864, 12)\n",
      "Car               49\n",
      "BuildingArea    5156\n",
      "YearBuilt       4307\n",
      "dtype: int64\n"
     ]
    }
   ],
   "source": [
    "# Shape of training data (num_rows, num_columns)\n",
    "print(X_train.shape)\n",
    "\n",
    "# Numbers of missing values in each column of training data\n",
    "missing_val_count_by_column = (X_train.isnull().sum())\n",
    "print(missing_val_count_by_column[missing_val_count_by_column > 0])"
   ]
  },
  {
   "cell_type": "markdown",
   "id": "fc237b9d-5bcf-4887-99ec-b5b09a48ad78",
   "metadata": {},
   "source": [
    "### Define Function to Measure Quality of Each Approach\n",
    "We define a function score_dataset() to compare different approaches to dealing with missing values. This function reports the mean absolute error (MAE) from a random forest model."
   ]
  },
  {
   "cell_type": "code",
   "execution_count": 29,
   "id": "25dcec89-3f14-4460-9021-1676c94ce02c",
   "metadata": {},
   "outputs": [],
   "source": [
    "from sklearn.ensemble import RandomForestRegressor\n",
    "from sklearn.metrics import mean_absolute_error\n",
    "\n",
    "\n",
    "# Function for comparing different approaches\n",
    "def score_dataset(X_train, X_valid, y_train, y_valid):\n",
    "    model = RandomForestRegressor(n_estimators = 10, random_state = 0)\n",
    "    model.fit(X_train, y_train)\n",
    "    preds = model.predict(X_valid)\n",
    "    return mean_absolute_error(y_valid, preds)"
   ]
  },
  {
   "cell_type": "markdown",
   "id": "3170c105-8703-4402-a6c3-457aaec9e31d",
   "metadata": {},
   "source": [
    "### Score from Approach 1 (Drop Columns with Missing Values)\n",
    "Since we are working with both training and validation sets, we are careful to drop the same columns in both DataFrames."
   ]
  },
  {
   "cell_type": "code",
   "execution_count": 30,
   "id": "c29ab7b6-cc44-486e-89a8-5d4a44140a04",
   "metadata": {},
   "outputs": [],
   "source": [
    "# Get names of columns with missing values\n",
    "cols_with_missing = [col for col in X_train.columns if X_train[col].isnull().any()]\n",
    "\n",
    "# Drop columns in training and validation data\n",
    "reduced_X_train = X_train.drop(cols_with_missing, axis = 1)\n",
    "reduced_X_valid = X_valid.drop(cols_with_missing, axis = 1)"
   ]
  },
  {
   "cell_type": "code",
   "execution_count": 31,
   "id": "bed5c5f9-cb2d-4fc6-be2d-5f369007cb4f",
   "metadata": {},
   "outputs": [
    {
     "name": "stdout",
     "output_type": "stream",
     "text": [
      "MAE from approach 1 (Drop columns  with missing values):\n",
      "183,550.22\n"
     ]
    }
   ],
   "source": [
    "print(\"MAE from approach 1 (Drop columns  with missing values):\")\n",
    "mae = score_dataset(reduced_X_train, reduced_X_valid, y_train, y_valid)\n",
    "formatted_mae = f\"{mae:,.2f}\"\n",
    "print(formatted_mae)"
   ]
  },
  {
   "cell_type": "markdown",
   "id": "95ab2f04-fc86-4b49-8a12-c0a8efff13b9",
   "metadata": {},
   "source": [
    "### 2-) A Better Option: Imputation\n",
    "Next, we use \"SimpleImputer\" to replace missing values with the mean value along each column."
   ]
  },
  {
   "cell_type": "code",
   "execution_count": 32,
   "id": "d3b35a3c-2937-47d0-8140-6754fe6cddb6",
   "metadata": {},
   "outputs": [],
   "source": [
    "from sklearn.impute import SimpleImputer\n",
    "\n",
    "# Imputation\n",
    "my_imputer = SimpleImputer()\n",
    "imputed_X_train = pd.DataFrame(my_imputer.fit_transform(X_train))\n",
    "imputed_X_valid = pd.DataFrame(my_imputer.transform(X_valid))\n",
    "\n",
    "# Imputation removed column names; put them back\n",
    "imputed_X_train.columns = X_train.columns\n",
    "imputed_X_valid.columns = X_valid.columns"
   ]
  },
  {
   "cell_type": "code",
   "execution_count": 33,
   "id": "9ffb1478-72c6-4b45-8c38-68f0ef9b673b",
   "metadata": {},
   "outputs": [
    {
     "name": "stdout",
     "output_type": "stream",
     "text": [
      "MAE from approach 2 (Imputation):\n",
      "178,166.46\n"
     ]
    }
   ],
   "source": [
    "print(\"MAE from approach 2 (Imputation):\")\n",
    "mae = score_dataset(imputed_X_train, imputed_X_valid, y_train, y_valid)\n",
    "formatted_mae = f\"{mae:,.2f}\"\n",
    "print(formatted_mae)"
   ]
  },
  {
   "cell_type": "markdown",
   "id": "62e0fbc2-e8b0-4395-9850-062adaf85720",
   "metadata": {},
   "source": [
    "We see that Approach 2 has lower MAE than Approach 1, so Approach 2 performed better on this dataset."
   ]
  },
  {
   "cell_type": "markdown",
   "id": "431c945c-b939-4f91-9f77-2ac0914c05eb",
   "metadata": {},
   "source": [
    "### 3-) An Extension To Imputation\n",
    "\n",
    "Next, we impute the missing values, while also keeping track of which values were imputed."
   ]
  },
  {
   "cell_type": "code",
   "execution_count": 34,
   "id": "eb7ba843-38c8-48a2-bd69-0e1ae544f43e",
   "metadata": {},
   "outputs": [],
   "source": [
    "# Make copy to avoid changing original data (when imputing)\n",
    "X_train_plus = X_train.copy()\n",
    "X_valid_plus = X_valid.copy()\n",
    "\n",
    "# Make new columns indicating what will be imputed\n",
    "for col in cols_with_missing:\n",
    "    X_train_plus[col + '_was_missing'] = X_train_plus[col].isnull()\n",
    "    X_valid_plus[col + '_was_missing'] = X_valid_plus[col].isnull()\n",
    "\n",
    "# Imputation\n",
    "my_imputer = SimpleImputer()\n",
    "imputed_X_train_plus = pd.DataFrame(my_imputer.fit_transform(X_train_plus))\n",
    "imputed_X_valid_plus = pd.DataFrame(my_imputer.transform(X_valid_plus))\n",
    "\n",
    "# Imputation removed column names; put them back\n",
    "imputed_X_train_plus.columns = X_train_plus.columns\n",
    "imputed_X_valid_plus.columns = X_valid_plus.columns"
   ]
  },
  {
   "cell_type": "code",
   "execution_count": 35,
   "id": "6e92fd00-2a77-47ce-b4f6-ed23fbd25b38",
   "metadata": {},
   "outputs": [
    {
     "name": "stdout",
     "output_type": "stream",
     "text": [
      "MAE from approach 3 (An Extension to Imputation):\n",
      "178,927.50\n"
     ]
    }
   ],
   "source": [
    "print(\"MAE from approach 3 (An Extension to Imputation):\")\n",
    "mae = score_dataset(imputed_X_train_plus, imputed_X_valid_plus, y_train, y_valid)\n",
    "formatted_mae = f\"{mae:,.2f}\"\n",
    "print(formatted_mae)"
   ]
  },
  {
   "cell_type": "markdown",
   "id": "4bccb427-381f-435e-8f08-9cb91157f7d3",
   "metadata": {},
   "source": [
    "## Categorical Variable"
   ]
  },
  {
   "cell_type": "markdown",
   "id": "62593c48-b90a-43b0-9ec2-dff7b8888042",
   "metadata": {},
   "source": [
    "## Dealing with categorical variables (Three Approaches)\n",
    "Drop Categorical Variables, Ordinal Encoding, One-Hot Encoding"
   ]
  },
  {
   "cell_type": "code",
   "execution_count": 36,
   "id": "1f2849c3-c569-4ecf-9ac7-24c7463d8ae9",
   "metadata": {},
   "outputs": [],
   "source": [
    "import pandas as pd\n",
    "from sklearn.model_selection import train_test_split\n",
    "\n",
    "# Read the data\n",
    "data = pd.read_csv(melbourne_file_path)\n",
    "\n",
    "# Separate target from predictors\n",
    "y = data.Price\n",
    "X = data.drop(['Price'], axis = 1)\n",
    "\n",
    "# Divide data into training and validation subsets\n",
    "X_train_full, X_valid_full, y_train, y_valid = train_test_split(X, y, train_size = 0.8, test_size = 0.2, random_state = 0)\n",
    "\n",
    "# Drop columns with missing values (simplest approach)\n",
    "cols_with_missing = [col for col in X_train_full.columns if X_train_full[col].isnull().any()]\n",
    "X_train_full.drop(cols_with_missing, axis = 1, inplace = True)\n",
    "X_valid_full.drop(cols_with_missing, axis = 1, inplace = True)\n",
    "\n",
    "# Cardinality means the number of unique values in a column\n",
    "# Select categorical columns with relatively low cardinality (convenient but arbitrary)\n",
    "low_cardinality_cols = [cname for cname in X_train_full.columns if X_train_full[cname].nunique() < 10 and X_train_full[cname].dtype == \"object\"]\n",
    "\n",
    "# Select numerical columns\n",
    "numerical_cols = [cname for cname in X_train_full.columns if X_train_full[cname].dtype in ['int64', 'float64']]\n",
    "\n",
    "# Keep selected columns only\n",
    "my_cols = low_cardinality_cols + numerical_cols\n",
    "X_train = X_train_full[my_cols].copy()\n",
    "X_valid = X_valid_full[my_cols].copy()"
   ]
  },
  {
   "cell_type": "code",
   "execution_count": 37,
   "id": "0b68f475-a36c-4dd1-a722-472515b3cf57",
   "metadata": {},
   "outputs": [
    {
     "data": {
      "text/html": [
       "<div>\n",
       "<style scoped>\n",
       "    .dataframe tbody tr th:only-of-type {\n",
       "        vertical-align: middle;\n",
       "    }\n",
       "\n",
       "    .dataframe tbody tr th {\n",
       "        vertical-align: top;\n",
       "    }\n",
       "\n",
       "    .dataframe thead th {\n",
       "        text-align: right;\n",
       "    }\n",
       "</style>\n",
       "<table border=\"1\" class=\"dataframe\">\n",
       "  <thead>\n",
       "    <tr style=\"text-align: right;\">\n",
       "      <th></th>\n",
       "      <th>Type</th>\n",
       "      <th>Method</th>\n",
       "      <th>Regionname</th>\n",
       "      <th>Rooms</th>\n",
       "      <th>Distance</th>\n",
       "      <th>Postcode</th>\n",
       "      <th>Bedroom2</th>\n",
       "      <th>Bathroom</th>\n",
       "      <th>Landsize</th>\n",
       "      <th>Lattitude</th>\n",
       "      <th>Longtitude</th>\n",
       "      <th>Propertycount</th>\n",
       "    </tr>\n",
       "  </thead>\n",
       "  <tbody>\n",
       "    <tr>\n",
       "      <th>12167</th>\n",
       "      <td>u</td>\n",
       "      <td>S</td>\n",
       "      <td>Southern Metropolitan</td>\n",
       "      <td>1</td>\n",
       "      <td>5.00</td>\n",
       "      <td>3182</td>\n",
       "      <td>1</td>\n",
       "      <td>1</td>\n",
       "      <td>0</td>\n",
       "      <td>-37.86</td>\n",
       "      <td>144.99</td>\n",
       "      <td>13240</td>\n",
       "    </tr>\n",
       "    <tr>\n",
       "      <th>6524</th>\n",
       "      <td>h</td>\n",
       "      <td>SA</td>\n",
       "      <td>Western Metropolitan</td>\n",
       "      <td>2</td>\n",
       "      <td>8.00</td>\n",
       "      <td>3016</td>\n",
       "      <td>2</td>\n",
       "      <td>2</td>\n",
       "      <td>193</td>\n",
       "      <td>-37.86</td>\n",
       "      <td>144.90</td>\n",
       "      <td>6380</td>\n",
       "    </tr>\n",
       "    <tr>\n",
       "      <th>8413</th>\n",
       "      <td>h</td>\n",
       "      <td>S</td>\n",
       "      <td>Western Metropolitan</td>\n",
       "      <td>3</td>\n",
       "      <td>12.60</td>\n",
       "      <td>3020</td>\n",
       "      <td>3</td>\n",
       "      <td>1</td>\n",
       "      <td>555</td>\n",
       "      <td>-37.80</td>\n",
       "      <td>144.82</td>\n",
       "      <td>3755</td>\n",
       "    </tr>\n",
       "    <tr>\n",
       "      <th>2919</th>\n",
       "      <td>u</td>\n",
       "      <td>SP</td>\n",
       "      <td>Northern Metropolitan</td>\n",
       "      <td>3</td>\n",
       "      <td>13.00</td>\n",
       "      <td>3046</td>\n",
       "      <td>3</td>\n",
       "      <td>1</td>\n",
       "      <td>265</td>\n",
       "      <td>-37.71</td>\n",
       "      <td>144.92</td>\n",
       "      <td>8870</td>\n",
       "    </tr>\n",
       "    <tr>\n",
       "      <th>6043</th>\n",
       "      <td>h</td>\n",
       "      <td>S</td>\n",
       "      <td>Western Metropolitan</td>\n",
       "      <td>3</td>\n",
       "      <td>13.30</td>\n",
       "      <td>3020</td>\n",
       "      <td>3</td>\n",
       "      <td>1</td>\n",
       "      <td>673</td>\n",
       "      <td>-37.76</td>\n",
       "      <td>144.83</td>\n",
       "      <td>4217</td>\n",
       "    </tr>\n",
       "  </tbody>\n",
       "</table>\n",
       "</div>"
      ],
      "text/plain": [
       "      Type Method             Regionname  Rooms  Distance  Postcode  Bedroom2  \\\n",
       "12167    u      S  Southern Metropolitan      1      5.00      3182         1   \n",
       "6524     h     SA   Western Metropolitan      2      8.00      3016         2   \n",
       "8413     h      S   Western Metropolitan      3     12.60      3020         3   \n",
       "2919     u     SP  Northern Metropolitan      3     13.00      3046         3   \n",
       "6043     h      S   Western Metropolitan      3     13.30      3020         3   \n",
       "\n",
       "       Bathroom  Landsize  Lattitude  Longtitude  Propertycount  \n",
       "12167         1         0     -37.86      144.99          13240  \n",
       "6524          2       193     -37.86      144.90           6380  \n",
       "8413          1       555     -37.80      144.82           3755  \n",
       "2919          1       265     -37.71      144.92           8870  \n",
       "6043          1       673     -37.76      144.83           4217  "
      ]
     },
     "execution_count": 37,
     "metadata": {},
     "output_type": "execute_result"
    }
   ],
   "source": [
    "X_train.head()"
   ]
  },
  {
   "cell_type": "code",
   "execution_count": 38,
   "id": "8a17a3ae-2f1d-4c32-8381-44635d4e3dfc",
   "metadata": {},
   "outputs": [
    {
     "name": "stdout",
     "output_type": "stream",
     "text": [
      "Categorical variables:\n",
      "['Type', 'Method', 'Regionname']\n"
     ]
    }
   ],
   "source": [
    "# Get list of categorical variables\n",
    "s = (X_train.dtypes == 'object')\n",
    "object_cols = list(s[s].index)\n",
    "\n",
    "print(\"Categorical variables:\")\n",
    "print(object_cols)"
   ]
  },
  {
   "cell_type": "markdown",
   "id": "8bbad266-aa62-4426-84f1-521e4f8a619d",
   "metadata": {},
   "source": [
    "### Define Function to Measure Quality of Each Approach\n",
    "We define a function score_dataset() to compare different approaches to dealing with missing values. This function reports the mean absolute error (MAE) from a random forest model."
   ]
  },
  {
   "cell_type": "code",
   "execution_count": 39,
   "id": "dd53664b-dfa0-4df9-8b04-0ee9ee8edc87",
   "metadata": {},
   "outputs": [],
   "source": [
    "from sklearn.ensemble import RandomForestRegressor\n",
    "from sklearn.metrics import mean_absolute_error\n",
    "\n",
    "# Function for comparing different approaches\n",
    "def score_dataset(X_train, X_valid, y_train, y_valid):\n",
    "    model = RandomForestRegressor(n_estimators = 100, random_state = 0)\n",
    "    model.fit(X_train, y_train)\n",
    "    preds = model.predict(X_valid)\n",
    "    return mean_absolute_error(y_valid, preds)"
   ]
  },
  {
   "cell_type": "markdown",
   "id": "a12c85c2-e5c6-4fcf-bea0-e4d2462a9cd6",
   "metadata": {},
   "source": [
    "### 1-) Score from Approach 1 (Drop Categorical Variables)\n",
    "The easiest approach to dealing with categorical variables is to simply remove them from the dataset. This approach will only work well if the columns did not contain useful information."
   ]
  },
  {
   "cell_type": "code",
   "execution_count": 40,
   "id": "c70f22ab-e117-4a27-af83-4a6fd622c015",
   "metadata": {},
   "outputs": [],
   "source": [
    "drop_X_train = X_train.select_dtypes(exclude = ['object'])\n",
    "drop_X_valid = X_valid.select_dtypes(exclude = ['object'])"
   ]
  },
  {
   "cell_type": "markdown",
   "id": "b8a5a62f-4b5f-421f-9318-50e48dcc2725",
   "metadata": {},
   "source": [
    "### Drop the problematic categorical columns"
   ]
  },
  {
   "cell_type": "code",
   "execution_count": 41,
   "id": "87436cb4-afad-4805-bb81-aeaff1dcedad",
   "metadata": {},
   "outputs": [
    {
     "name": "stdout",
     "output_type": "stream",
     "text": [
      "Categorical columns that will be ordinal encoded: ['Type', 'Method', 'Regionname']\n",
      "\n",
      "Categorical columns that will be dropped from the dataset: []\n"
     ]
    }
   ],
   "source": [
    "# Categorical columns in the training data\n",
    "object_cols = [col for col in X_train.columns if X_train[col].dtype == \"object\"]\n",
    "\n",
    "# Columns that can be safely ordinal encoded\n",
    "good_label_cols = [col for col in object_cols if \n",
    "                   set(X_valid[col]).issubset(set(X_train[col]))]\n",
    "        \n",
    "# Problematic columns that will be dropped from the dataset\n",
    "bad_label_cols = list(set(object_cols)-set(good_label_cols))\n",
    "        \n",
    "print('Categorical columns that will be ordinal encoded:', good_label_cols)\n",
    "print('\\nCategorical columns that will be dropped from the dataset:', bad_label_cols)"
   ]
  },
  {
   "cell_type": "code",
   "execution_count": 42,
   "id": "490b0cee-af93-46ac-85d4-ce16c36d5584",
   "metadata": {},
   "outputs": [
    {
     "name": "stdout",
     "output_type": "stream",
     "text": [
      "MAE from approach 1 (Drop categorical variables):\n",
      "175,703.48\n"
     ]
    }
   ],
   "source": [
    "print(\"MAE from approach 1 (Drop categorical variables):\")\n",
    "mae = score_dataset(drop_X_train, drop_X_valid, y_train, y_valid)\n",
    "formatted_mae = f\"{mae:,.2f}\"\n",
    "print(formatted_mae)"
   ]
  },
  {
   "cell_type": "markdown",
   "id": "7e19daa1-8b28-4057-8c73-0e5ecac24326",
   "metadata": {},
   "source": [
    "### 2-) Score from Approach 2 (Ordinal Encoding)\n",
    "Ordinal encoding assigns each unique value to a different integer. Scikit-learn has a OrdinalEncoder class that can be used to get ordinal encodings. We loop over the categorical variables and apply the ordinal encoder separately to each column."
   ]
  },
  {
   "cell_type": "code",
   "execution_count": 43,
   "id": "35c1e903-738a-4e0b-b466-0dbdde75c6e8",
   "metadata": {},
   "outputs": [],
   "source": [
    "from sklearn.preprocessing import OrdinalEncoder\n",
    "\n",
    "# Make copy to avoid changing original data\n",
    "label_X_train = X_train.copy()\n",
    "label_X_valid = X_valid.copy()\n",
    "# Apply ordinal encoder to each column with categorical data\n",
    "ordinal_encoder = OrdinalEncoder()\n",
    "label_X_train[good_label_cols] = ordinal_encoder.fit_transform(X_train[good_label_cols])\n",
    "label_X_valid[good_label_cols] = ordinal_encoder.transform(X_valid[good_label_cols])"
   ]
  },
  {
   "cell_type": "code",
   "execution_count": 44,
   "id": "3f7f043f-fd50-4c78-843e-fcba83aabdf1",
   "metadata": {},
   "outputs": [
    {
     "data": {
      "text/html": [
       "<div>\n",
       "<style scoped>\n",
       "    .dataframe tbody tr th:only-of-type {\n",
       "        vertical-align: middle;\n",
       "    }\n",
       "\n",
       "    .dataframe tbody tr th {\n",
       "        vertical-align: top;\n",
       "    }\n",
       "\n",
       "    .dataframe thead th {\n",
       "        text-align: right;\n",
       "    }\n",
       "</style>\n",
       "<table border=\"1\" class=\"dataframe\">\n",
       "  <thead>\n",
       "    <tr style=\"text-align: right;\">\n",
       "      <th></th>\n",
       "      <th>Type</th>\n",
       "      <th>Method</th>\n",
       "      <th>Regionname</th>\n",
       "    </tr>\n",
       "  </thead>\n",
       "  <tbody>\n",
       "    <tr>\n",
       "      <th>12167</th>\n",
       "      <td>2.00</td>\n",
       "      <td>1.00</td>\n",
       "      <td>5.00</td>\n",
       "    </tr>\n",
       "    <tr>\n",
       "      <th>6524</th>\n",
       "      <td>0.00</td>\n",
       "      <td>2.00</td>\n",
       "      <td>6.00</td>\n",
       "    </tr>\n",
       "    <tr>\n",
       "      <th>8413</th>\n",
       "      <td>0.00</td>\n",
       "      <td>1.00</td>\n",
       "      <td>6.00</td>\n",
       "    </tr>\n",
       "    <tr>\n",
       "      <th>2919</th>\n",
       "      <td>2.00</td>\n",
       "      <td>3.00</td>\n",
       "      <td>2.00</td>\n",
       "    </tr>\n",
       "    <tr>\n",
       "      <th>6043</th>\n",
       "      <td>0.00</td>\n",
       "      <td>1.00</td>\n",
       "      <td>6.00</td>\n",
       "    </tr>\n",
       "  </tbody>\n",
       "</table>\n",
       "</div>"
      ],
      "text/plain": [
       "       Type  Method  Regionname\n",
       "12167  2.00    1.00        5.00\n",
       "6524   0.00    2.00        6.00\n",
       "8413   0.00    1.00        6.00\n",
       "2919   2.00    3.00        2.00\n",
       "6043   0.00    1.00        6.00"
      ]
     },
     "execution_count": 44,
     "metadata": {},
     "output_type": "execute_result"
    }
   ],
   "source": [
    "label_X_train[object_cols].head()"
   ]
  },
  {
   "cell_type": "code",
   "execution_count": 45,
   "id": "2fde77b9-ffa0-4f16-8748-8f520f2c9e44",
   "metadata": {},
   "outputs": [
    {
     "name": "stdout",
     "output_type": "stream",
     "text": [
      "MAE from approach 2 (Ordinal Encoding):\n",
      "165,936.41\n"
     ]
    }
   ],
   "source": [
    "print(\"MAE from approach 2 (Ordinal Encoding):\")\n",
    "mae = score_dataset(label_X_train, label_X_valid, y_train, y_valid)\n",
    "formatted_mae = f\"{mae:,.2f}\"\n",
    "print(formatted_mae)"
   ]
  },
  {
   "cell_type": "markdown",
   "id": "30a5b0a3-19e9-4119-a0fd-daffc50dea9b",
   "metadata": {},
   "source": [
    "### 3-) One-Hot Encoding"
   ]
  },
  {
   "cell_type": "markdown",
   "id": "794ba31f-1f36-4dcc-9299-5d3636516f66",
   "metadata": {},
   "source": [
    "One-hot encoding creates new columns indicating the presence (or absence) of each possible value in the original data.\n",
    "\n",
    "One-hot encoding generally does not perform well if the categorical variable takes on a large number of values (i.e., you generally won't use it for variables taking more than 15 different values).\n",
    "\n",
    "We use the OneHotEncoder class from scikit-learn to get one-hot encodings. There are a number of parameters that can be used to customize its behavior.\n",
    "\n",
    "We set handle_unknown='ignore' to avoid errors when the validation data contains classes that aren't represented in the training data, and setting sparse=False ensures that the encoded columns are returned as a numpy array (instead of a sparse matrix)."
   ]
  },
  {
   "cell_type": "code",
   "execution_count": 46,
   "id": "f7e0b15d-5025-42df-a7c7-1db8c9523af0",
   "metadata": {},
   "outputs": [],
   "source": [
    "from sklearn.preprocessing import OneHotEncoder\n",
    "\n",
    "# Apply one-hot encoder to each column with categorical data\n",
    "OH_encoder = OneHotEncoder(handle_unknown='ignore', sparse_output = False)\n",
    "OH_cols_train = pd.DataFrame(OH_encoder.fit_transform(X_train[low_cardinality_cols]))\n",
    "OH_cols_valid = pd.DataFrame(OH_encoder.transform(X_valid[low_cardinality_cols]))\n",
    "\n",
    "# One-hot encoding removed index; put it back\n",
    "OH_cols_train.index = X_train.index\n",
    "OH_cols_valid.index = X_valid.index\n",
    "\n",
    "# Remove categorical columns (will replace with one-hot encoding)\n",
    "num_X_train = X_train.drop(object_cols, axis=1)\n",
    "num_X_valid = X_valid.drop(object_cols, axis=1)\n",
    "\n",
    "# Add one-hot encoded columns to numerical features\n",
    "OH_X_train = pd.concat([num_X_train, OH_cols_train], axis=1)\n",
    "OH_X_valid = pd.concat([num_X_valid, OH_cols_valid], axis=1)\n",
    "\n",
    "# Ensure all columns have string type\n",
    "OH_X_train.columns = OH_X_train.columns.astype(str)\n",
    "OH_X_valid.columns = OH_X_valid.columns.astype(str)"
   ]
  },
  {
   "cell_type": "code",
   "execution_count": 47,
   "id": "f514c818-d88d-4f22-b8aa-f616b9ba0219",
   "metadata": {},
   "outputs": [
    {
     "name": "stdout",
     "output_type": "stream",
     "text": [
      "MAE from approach 3 (One-Hot Encoding):\n",
      "166,089.49\n"
     ]
    }
   ],
   "source": [
    "print(\"MAE from approach 3 (One-Hot Encoding):\")\n",
    "mae = score_dataset(OH_X_train, OH_X_valid, y_train, y_valid)\n",
    "formatted_mae = f\"{mae:,.2f}\"\n",
    "print(formatted_mae)"
   ]
  },
  {
   "cell_type": "markdown",
   "id": "223b51e2-cb3c-4c79-afba-f52a7f8ff64a",
   "metadata": {},
   "source": [
    "## Pipelines"
   ]
  },
  {
   "cell_type": "markdown",
   "id": "7ea0e108-a23f-4a20-ba36-aa714bd6c2b5",
   "metadata": {},
   "source": [
    "### Reading, Splitting, Cardinaliying and dividing in Numerical & Categorical Columns the Source Data"
   ]
  },
  {
   "cell_type": "code",
   "execution_count": 48,
   "id": "15716cd7-034c-472a-a1b5-d803f5ccff30",
   "metadata": {},
   "outputs": [],
   "source": [
    "import pandas as pd\n",
    "from sklearn.model_selection import train_test_split\n",
    "\n",
    "# Read the data\n",
    "data = pd.read_csv(melbourne_file_path)\n",
    "\n",
    "# Separate target from predictors\n",
    "y = data.Price\n",
    "X = data.drop(['Price'], axis=1)\n",
    "\n",
    "# Divide data into training and validation subsets\n",
    "X_train_full, X_valid_full, y_train, y_valid = train_test_split(X, y, train_size=0.8, test_size=0.2,\n",
    "                                                                random_state=0)\n",
    "\n",
    "# \"Cardinality\" means the number of unique values in a column\n",
    "# Select categorical columns with relatively low cardinality (convenient but arbitrary)\n",
    "categorical_cols = [cname for cname in X_train_full.columns if X_train_full[cname].nunique() < 10 and \n",
    "                        X_train_full[cname].dtype == \"object\"]\n",
    "\n",
    "# Select numerical columns\n",
    "numerical_cols = [cname for cname in X_train_full.columns if X_train_full[cname].dtype in ['int64', 'float64']]\n",
    "\n",
    "# Keep selected columns only\n",
    "my_cols = categorical_cols + numerical_cols\n",
    "X_train = X_train_full[my_cols].copy()\n",
    "X_valid = X_valid_full[my_cols].copy()"
   ]
  },
  {
   "cell_type": "markdown",
   "id": "4360ccce-d112-498e-a47b-f73b21cbdf71",
   "metadata": {},
   "source": [
    "### Sneak data preview"
   ]
  },
  {
   "cell_type": "code",
   "execution_count": 49,
   "id": "6e9bfdc7-c104-476e-8c2a-521eb890fb7b",
   "metadata": {},
   "outputs": [
    {
     "data": {
      "text/html": [
       "<div>\n",
       "<style scoped>\n",
       "    .dataframe tbody tr th:only-of-type {\n",
       "        vertical-align: middle;\n",
       "    }\n",
       "\n",
       "    .dataframe tbody tr th {\n",
       "        vertical-align: top;\n",
       "    }\n",
       "\n",
       "    .dataframe thead th {\n",
       "        text-align: right;\n",
       "    }\n",
       "</style>\n",
       "<table border=\"1\" class=\"dataframe\">\n",
       "  <thead>\n",
       "    <tr style=\"text-align: right;\">\n",
       "      <th></th>\n",
       "      <th>Type</th>\n",
       "      <th>Method</th>\n",
       "      <th>Regionname</th>\n",
       "      <th>Rooms</th>\n",
       "      <th>Distance</th>\n",
       "      <th>Postcode</th>\n",
       "      <th>Bedroom2</th>\n",
       "      <th>Bathroom</th>\n",
       "      <th>Car</th>\n",
       "      <th>Landsize</th>\n",
       "      <th>BuildingArea</th>\n",
       "      <th>YearBuilt</th>\n",
       "      <th>Lattitude</th>\n",
       "      <th>Longtitude</th>\n",
       "      <th>Propertycount</th>\n",
       "    </tr>\n",
       "  </thead>\n",
       "  <tbody>\n",
       "    <tr>\n",
       "      <th>12167</th>\n",
       "      <td>u</td>\n",
       "      <td>S</td>\n",
       "      <td>Southern Metropolitan</td>\n",
       "      <td>1</td>\n",
       "      <td>5.00</td>\n",
       "      <td>3182</td>\n",
       "      <td>1</td>\n",
       "      <td>1</td>\n",
       "      <td>1.00</td>\n",
       "      <td>0</td>\n",
       "      <td>NaN</td>\n",
       "      <td>1,940.00</td>\n",
       "      <td>-37.86</td>\n",
       "      <td>144.99</td>\n",
       "      <td>13240</td>\n",
       "    </tr>\n",
       "    <tr>\n",
       "      <th>6524</th>\n",
       "      <td>h</td>\n",
       "      <td>SA</td>\n",
       "      <td>Western Metropolitan</td>\n",
       "      <td>2</td>\n",
       "      <td>8.00</td>\n",
       "      <td>3016</td>\n",
       "      <td>2</td>\n",
       "      <td>2</td>\n",
       "      <td>1.00</td>\n",
       "      <td>193</td>\n",
       "      <td>NaN</td>\n",
       "      <td>NaN</td>\n",
       "      <td>-37.86</td>\n",
       "      <td>144.90</td>\n",
       "      <td>6380</td>\n",
       "    </tr>\n",
       "    <tr>\n",
       "      <th>8413</th>\n",
       "      <td>h</td>\n",
       "      <td>S</td>\n",
       "      <td>Western Metropolitan</td>\n",
       "      <td>3</td>\n",
       "      <td>12.60</td>\n",
       "      <td>3020</td>\n",
       "      <td>3</td>\n",
       "      <td>1</td>\n",
       "      <td>1.00</td>\n",
       "      <td>555</td>\n",
       "      <td>NaN</td>\n",
       "      <td>NaN</td>\n",
       "      <td>-37.80</td>\n",
       "      <td>144.82</td>\n",
       "      <td>3755</td>\n",
       "    </tr>\n",
       "    <tr>\n",
       "      <th>2919</th>\n",
       "      <td>u</td>\n",
       "      <td>SP</td>\n",
       "      <td>Northern Metropolitan</td>\n",
       "      <td>3</td>\n",
       "      <td>13.00</td>\n",
       "      <td>3046</td>\n",
       "      <td>3</td>\n",
       "      <td>1</td>\n",
       "      <td>1.00</td>\n",
       "      <td>265</td>\n",
       "      <td>NaN</td>\n",
       "      <td>1,995.00</td>\n",
       "      <td>-37.71</td>\n",
       "      <td>144.92</td>\n",
       "      <td>8870</td>\n",
       "    </tr>\n",
       "    <tr>\n",
       "      <th>6043</th>\n",
       "      <td>h</td>\n",
       "      <td>S</td>\n",
       "      <td>Western Metropolitan</td>\n",
       "      <td>3</td>\n",
       "      <td>13.30</td>\n",
       "      <td>3020</td>\n",
       "      <td>3</td>\n",
       "      <td>1</td>\n",
       "      <td>2.00</td>\n",
       "      <td>673</td>\n",
       "      <td>673.00</td>\n",
       "      <td>1,970.00</td>\n",
       "      <td>-37.76</td>\n",
       "      <td>144.83</td>\n",
       "      <td>4217</td>\n",
       "    </tr>\n",
       "  </tbody>\n",
       "</table>\n",
       "</div>"
      ],
      "text/plain": [
       "      Type Method             Regionname  Rooms  Distance  Postcode  Bedroom2  \\\n",
       "12167    u      S  Southern Metropolitan      1      5.00      3182         1   \n",
       "6524     h     SA   Western Metropolitan      2      8.00      3016         2   \n",
       "8413     h      S   Western Metropolitan      3     12.60      3020         3   \n",
       "2919     u     SP  Northern Metropolitan      3     13.00      3046         3   \n",
       "6043     h      S   Western Metropolitan      3     13.30      3020         3   \n",
       "\n",
       "       Bathroom  Car  Landsize  BuildingArea  YearBuilt  Lattitude  \\\n",
       "12167         1 1.00         0           NaN   1,940.00     -37.86   \n",
       "6524          2 1.00       193           NaN        NaN     -37.86   \n",
       "8413          1 1.00       555           NaN        NaN     -37.80   \n",
       "2919          1 1.00       265           NaN   1,995.00     -37.71   \n",
       "6043          1 2.00       673        673.00   1,970.00     -37.76   \n",
       "\n",
       "       Longtitude  Propertycount  \n",
       "12167      144.99          13240  \n",
       "6524       144.90           6380  \n",
       "8413       144.82           3755  \n",
       "2919       144.92           8870  \n",
       "6043       144.83           4217  "
      ]
     },
     "execution_count": 49,
     "metadata": {},
     "output_type": "execute_result"
    }
   ],
   "source": [
    "X_train.head()"
   ]
  },
  {
   "cell_type": "markdown",
   "id": "70ff8cf7-d187-469d-ae34-5c74b480add0",
   "metadata": {},
   "source": [
    "### Step 1: Define Preprocessing Steps"
   ]
  },
  {
   "cell_type": "markdown",
   "id": "3d410337-66e7-4983-8cec-ac0bdb29fd4a",
   "metadata": {},
   "source": [
    "Similar to how a pipeline bundles together preprocessing and modeling steps, we use the ColumnTransformer class to bundle together different preprocessing steps. The code below:\n",
    "\n",
    "imputes missing values in numerical data, and\n",
    "\n",
    "imputes missing values and applies a one-hot encoding to categorical data."
   ]
  },
  {
   "cell_type": "code",
   "execution_count": 56,
   "id": "249c8201-0c93-4fab-95c0-3b78f2ddc0b8",
   "metadata": {},
   "outputs": [],
   "source": [
    "from sklearn.compose import ColumnTransformer\n",
    "from sklearn.pipeline import Pipeline\n",
    "from sklearn.impute import SimpleImputer\n",
    "from sklearn.preprocessing import OneHotEncoder\n",
    "\n",
    "# Preprocessing for numerical data\n",
    "numerical_transformer = SimpleImputer(strategy='constant')\n",
    "\n",
    "# Preprocessing for categorical data\n",
    "categorical_transformer = Pipeline(steps=[\n",
    "    ('imputer', SimpleImputer(strategy='most_frequent')),\n",
    "    ('onehot', OneHotEncoder(handle_unknown='ignore'))\n",
    "])\n",
    "\n",
    "# Bundle preprocessing for numerical and categorical data\n",
    "preprocessor = ColumnTransformer(\n",
    "    transformers=[\n",
    "        ('num', numerical_transformer, numerical_cols),\n",
    "        ('cat', categorical_transformer, categorical_cols)\n",
    "    ])"
   ]
  },
  {
   "cell_type": "markdown",
   "id": "939f2822-19f1-4c93-a943-1f59cff540e8",
   "metadata": {},
   "source": [
    "## Step 2: Define the Model"
   ]
  },
  {
   "cell_type": "markdown",
   "id": "7cf2ed10-aab5-422d-b00e-470e4b3a76dd",
   "metadata": {},
   "source": [
    "### Define Function to Measure Quality of Each Approach\n",
    "We define a function score_dataset() to compare different approaches to dealing with missing values. This function reports the mean absolute error (MAE) from a random forest model."
   ]
  },
  {
   "cell_type": "code",
   "execution_count": 65,
   "id": "341fc67a-74ee-4e6d-b05d-8219af99763b",
   "metadata": {},
   "outputs": [],
   "source": [
    "from sklearn.ensemble import RandomForestRegressor\n",
    "\n",
    "model = RandomForestRegressor(n_estimators=100, random_state=0)"
   ]
  },
  {
   "cell_type": "markdown",
   "id": "f7e51bae-3e60-42fe-9c80-2c02ac599d3f",
   "metadata": {},
   "source": [
    "## Step 3: Create and Evaluate the Pipeline\n",
    "\n",
    "Finally, we use the Pipeline class to define a pipeline that bundles the preprocessing and modeling steps. There are a few important things to notice:\n",
    "\n",
    "With the pipeline, we preprocess the training data and fit the model in a single line of code. (In contrast, without a pipeline, we have to do imputation, one-hot encoding, and model training in separate steps. This becomes especially messy if we have to deal with both numerical and categorical variables!)\n",
    "\n",
    "With the pipeline, we supply the unprocessed features in X_valid to the predict() command, and the pipeline automatically preprocesses the features before generating predictions. (However, without a pipeline, we have to remember to preprocess the validation data before making predictions.)"
   ]
  },
  {
   "cell_type": "code",
   "execution_count": 67,
   "id": "0a032a3b-655a-43dc-9d71-15250414642b",
   "metadata": {},
   "outputs": [
    {
     "name": "stdout",
     "output_type": "stream",
     "text": [
      "'MAE:', 160,679.19\n"
     ]
    }
   ],
   "source": [
    "from sklearn.metrics import mean_absolute_error\n",
    "\n",
    "# Bundle preprocessing and modeling code in a pipeline\n",
    "my_pipeline = Pipeline(steps=[('preprocessor', preprocessor),\n",
    "                              ('model', model)\n",
    "                             ])\n",
    "\n",
    "# Preprocessing of training data, fit model \n",
    "my_pipeline.fit(X_train, y_train)\n",
    "\n",
    "# Preprocessing of validation data, get predictions\n",
    "preds = my_pipeline.predict(X_valid)\n",
    "\n",
    "# Evaluate the model\n",
    "score = mean_absolute_error(y_valid, preds)\n",
    "print(f\"'MAE:', {score:,.2f}\")"
   ]
  },
  {
   "cell_type": "code",
   "execution_count": null,
   "id": "38c8731f-b55e-4dce-8f86-a53bd413262a",
   "metadata": {},
   "outputs": [],
   "source": []
  }
 ],
 "metadata": {
  "kernelspec": {
   "display_name": "Python 3 (ipykernel)",
   "language": "python",
   "name": "python3"
  },
  "language_info": {
   "codemirror_mode": {
    "name": "ipython",
    "version": 3
   },
   "file_extension": ".py",
   "mimetype": "text/x-python",
   "name": "python",
   "nbconvert_exporter": "python",
   "pygments_lexer": "ipython3",
   "version": "3.8.19"
  }
 },
 "nbformat": 4,
 "nbformat_minor": 5
}
